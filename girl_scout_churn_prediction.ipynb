{
  "cells": [
    {
      "cell_type": "markdown",
      "metadata": {
        "id": "view-in-github",
        "colab_type": "text"
      },
      "source": [
        "<a href=\"https://colab.research.google.com/github/Anjumammar/girls-scout-churn-prediction-/blob/main/girl_scout_churn_prediction.ipynb\" target=\"_parent\"><img src=\"https://colab.research.google.com/assets/colab-badge.svg\" alt=\"Open In Colab\"/></a>"
      ]
    },
    {
      "cell_type": "markdown",
      "metadata": {
        "id": "EXN1wBCKgXW1"
      },
      "source": [
        "## Customer Churn Prediction"
      ]
    },
    {
      "cell_type": "code",
      "source": [
        "##installing import library"
      ],
      "metadata": {
        "id": "nYduG4dGhFzH"
      },
      "execution_count": null,
      "outputs": []
    },
    {
      "cell_type": "code",
      "execution_count": null,
      "metadata": {
        "id": "epxGi3WqgXW9"
      },
      "outputs": [],
      "source": [
        "import pandas as pd\n",
        "import numpy as np\n",
        "import matplotlib.pyplot as plt\n",
        "import seaborn as sns\n",
        "import plotly.express as px\n",
        "import plotly.graph_objects as go\n",
        "from plotly.subplots import make_subplots\n",
        "import warnings\n",
        "warnings.filterwarnings('ignore')\n",
        "\n",
        "from sklearn.preprocessing import LabelEncoder\n",
        "from sklearn.preprocessing import StandardScaler\n",
        "\n",
        "\n",
        "from sklearn.model_selection import train_test_split\n",
        "from sklearn.neighbors import KNeighborsClassifier\n",
        "\n",
        "\n",
        "from sklearn.preprocessing import StandardScaler\n",
        "from sklearn.preprocessing import LabelEncoder\n",
        "\n",
        "from sklearn.tree import DecisionTreeClassifier\n",
        "from sklearn.ensemble import RandomForestClassifier\n",
        "from sklearn.naive_bayes import GaussianNB\n",
        "from sklearn.neighbors import KNeighborsClassifier\n",
        "from sklearn.svm import SVC\n",
        "from sklearn.neural_network import MLPClassifier\n",
        "from sklearn.ensemble import AdaBoostClassifier\n",
        "from sklearn.ensemble import GradientBoostingClassifier\n",
        "from sklearn.ensemble import ExtraTreesClassifier\n",
        "from sklearn.linear_model import LogisticRegression\n",
        "from sklearn.model_selection import train_test_split\n",
        "from sklearn.metrics import accuracy_score\n",
        "from xgboost import XGBClassifier\n",
        "from sklearn import metrics\n",
        "from sklearn.metrics import roc_curve\n",
        "from sklearn.metrics import recall_score, confusion_matrix, precision_score, f1_score, accuracy_score, classification_report\n",
        "\n",
        "from sklearn.ensemble import VotingClassifier"
      ]
    },
    {
      "cell_type": "code",
      "execution_count": null,
      "metadata": {
        "id": "oCUMRjoWgXXQ"
      },
      "outputs": [],
      "source": [
        "from sklearn.metrics import confusion_matrix, accuracy_score \n",
        "from sklearn.metrics import f1_score, precision_score, recall_score, fbeta_score\n",
        "from statsmodels.stats.outliers_influence import variance_inflation_factor\n",
        "from sklearn.model_selection import cross_val_score\n",
        "from sklearn.model_selection import GridSearchCV\n",
        "from sklearn.model_selection import ShuffleSplit\n",
        "from sklearn.model_selection import KFold\n",
        "from sklearn import feature_selection\n",
        "from sklearn import model_selection\n",
        "from sklearn import metrics\n",
        "from sklearn.metrics import classification_report, precision_recall_curve\n",
        "from sklearn.metrics import auc, roc_auc_score, roc_curve\n",
        "from sklearn.metrics import make_scorer, recall_score, log_loss\n",
        "from sklearn.metrics import average_precision_score\n",
        "#Standard libraries for data visualization:"
      ]
    },
    {
      "cell_type": "code",
      "execution_count": null,
      "metadata": {
        "colab": {
          "base_uri": "https://localhost:8080/",
          "height": 386
        },
        "id": "ghn8hALYgXXR",
        "outputId": "668f5c2e-c1be-4c86-9352-a0a54d219ba9"
      },
      "outputs": [
        {
          "output_type": "execute_result",
          "data": {
            "text/plain": [
              "   customerID  tenure PhoneService        Contract PaperlessBilling  \\\n",
              "0  7590-VHVEG       1           No  Month-to-month              Yes   \n",
              "1  5575-GNVDE      34          Yes        One year               No   \n",
              "2  3668-QPYBK       2          Yes  Month-to-month              Yes   \n",
              "3  7795-CFOCW      45           No        One year               No   \n",
              "4  9237-HQITU       2          Yes  Month-to-month              Yes   \n",
              "\n",
              "               PaymentMethod  MonthlyCharges TotalCharges  Churn  gender  ...  \\\n",
              "0           Electronic check           29.85        29.85      0  Female  ...   \n",
              "1               Mailed check           56.95       1889.5      0    Male  ...   \n",
              "2               Mailed check           53.85       108.15      1    Male  ...   \n",
              "3  Bank transfer (automatic)           42.30      1840.75      0    Male  ...   \n",
              "4           Electronic check           70.70       151.65      1  Female  ...   \n",
              "\n",
              "   Partner Dependents     MultipleLines InternetService OnlineSecurity  \\\n",
              "0      Yes         No  No phone service             DSL             No   \n",
              "1       No         No                No             DSL            Yes   \n",
              "2       No         No                No             DSL            Yes   \n",
              "3       No         No  No phone service             DSL            Yes   \n",
              "4       No         No                No     Fiber optic             No   \n",
              "\n",
              "  OnlineBackup DeviceProtection TechSupport StreamingTV StreamingMovies  \n",
              "0          Yes               No          No          No              No  \n",
              "1           No              Yes          No          No              No  \n",
              "2          Yes               No          No          No              No  \n",
              "3           No              Yes         Yes          No              No  \n",
              "4           No               No          No          No              No  \n",
              "\n",
              "[5 rows x 21 columns]"
            ],
            "text/html": [
              "\n",
              "  <div id=\"df-834c8c51-3499-4360-980a-7c03b296b698\">\n",
              "    <div class=\"colab-df-container\">\n",
              "      <div>\n",
              "<style scoped>\n",
              "    .dataframe tbody tr th:only-of-type {\n",
              "        vertical-align: middle;\n",
              "    }\n",
              "\n",
              "    .dataframe tbody tr th {\n",
              "        vertical-align: top;\n",
              "    }\n",
              "\n",
              "    .dataframe thead th {\n",
              "        text-align: right;\n",
              "    }\n",
              "</style>\n",
              "<table border=\"1\" class=\"dataframe\">\n",
              "  <thead>\n",
              "    <tr style=\"text-align: right;\">\n",
              "      <th></th>\n",
              "      <th>customerID</th>\n",
              "      <th>tenure</th>\n",
              "      <th>PhoneService</th>\n",
              "      <th>Contract</th>\n",
              "      <th>PaperlessBilling</th>\n",
              "      <th>PaymentMethod</th>\n",
              "      <th>MonthlyCharges</th>\n",
              "      <th>TotalCharges</th>\n",
              "      <th>Churn</th>\n",
              "      <th>gender</th>\n",
              "      <th>...</th>\n",
              "      <th>Partner</th>\n",
              "      <th>Dependents</th>\n",
              "      <th>MultipleLines</th>\n",
              "      <th>InternetService</th>\n",
              "      <th>OnlineSecurity</th>\n",
              "      <th>OnlineBackup</th>\n",
              "      <th>DeviceProtection</th>\n",
              "      <th>TechSupport</th>\n",
              "      <th>StreamingTV</th>\n",
              "      <th>StreamingMovies</th>\n",
              "    </tr>\n",
              "  </thead>\n",
              "  <tbody>\n",
              "    <tr>\n",
              "      <th>0</th>\n",
              "      <td>7590-VHVEG</td>\n",
              "      <td>1</td>\n",
              "      <td>No</td>\n",
              "      <td>Month-to-month</td>\n",
              "      <td>Yes</td>\n",
              "      <td>Electronic check</td>\n",
              "      <td>29.85</td>\n",
              "      <td>29.85</td>\n",
              "      <td>0</td>\n",
              "      <td>Female</td>\n",
              "      <td>...</td>\n",
              "      <td>Yes</td>\n",
              "      <td>No</td>\n",
              "      <td>No phone service</td>\n",
              "      <td>DSL</td>\n",
              "      <td>No</td>\n",
              "      <td>Yes</td>\n",
              "      <td>No</td>\n",
              "      <td>No</td>\n",
              "      <td>No</td>\n",
              "      <td>No</td>\n",
              "    </tr>\n",
              "    <tr>\n",
              "      <th>1</th>\n",
              "      <td>5575-GNVDE</td>\n",
              "      <td>34</td>\n",
              "      <td>Yes</td>\n",
              "      <td>One year</td>\n",
              "      <td>No</td>\n",
              "      <td>Mailed check</td>\n",
              "      <td>56.95</td>\n",
              "      <td>1889.5</td>\n",
              "      <td>0</td>\n",
              "      <td>Male</td>\n",
              "      <td>...</td>\n",
              "      <td>No</td>\n",
              "      <td>No</td>\n",
              "      <td>No</td>\n",
              "      <td>DSL</td>\n",
              "      <td>Yes</td>\n",
              "      <td>No</td>\n",
              "      <td>Yes</td>\n",
              "      <td>No</td>\n",
              "      <td>No</td>\n",
              "      <td>No</td>\n",
              "    </tr>\n",
              "    <tr>\n",
              "      <th>2</th>\n",
              "      <td>3668-QPYBK</td>\n",
              "      <td>2</td>\n",
              "      <td>Yes</td>\n",
              "      <td>Month-to-month</td>\n",
              "      <td>Yes</td>\n",
              "      <td>Mailed check</td>\n",
              "      <td>53.85</td>\n",
              "      <td>108.15</td>\n",
              "      <td>1</td>\n",
              "      <td>Male</td>\n",
              "      <td>...</td>\n",
              "      <td>No</td>\n",
              "      <td>No</td>\n",
              "      <td>No</td>\n",
              "      <td>DSL</td>\n",
              "      <td>Yes</td>\n",
              "      <td>Yes</td>\n",
              "      <td>No</td>\n",
              "      <td>No</td>\n",
              "      <td>No</td>\n",
              "      <td>No</td>\n",
              "    </tr>\n",
              "    <tr>\n",
              "      <th>3</th>\n",
              "      <td>7795-CFOCW</td>\n",
              "      <td>45</td>\n",
              "      <td>No</td>\n",
              "      <td>One year</td>\n",
              "      <td>No</td>\n",
              "      <td>Bank transfer (automatic)</td>\n",
              "      <td>42.30</td>\n",
              "      <td>1840.75</td>\n",
              "      <td>0</td>\n",
              "      <td>Male</td>\n",
              "      <td>...</td>\n",
              "      <td>No</td>\n",
              "      <td>No</td>\n",
              "      <td>No phone service</td>\n",
              "      <td>DSL</td>\n",
              "      <td>Yes</td>\n",
              "      <td>No</td>\n",
              "      <td>Yes</td>\n",
              "      <td>Yes</td>\n",
              "      <td>No</td>\n",
              "      <td>No</td>\n",
              "    </tr>\n",
              "    <tr>\n",
              "      <th>4</th>\n",
              "      <td>9237-HQITU</td>\n",
              "      <td>2</td>\n",
              "      <td>Yes</td>\n",
              "      <td>Month-to-month</td>\n",
              "      <td>Yes</td>\n",
              "      <td>Electronic check</td>\n",
              "      <td>70.70</td>\n",
              "      <td>151.65</td>\n",
              "      <td>1</td>\n",
              "      <td>Female</td>\n",
              "      <td>...</td>\n",
              "      <td>No</td>\n",
              "      <td>No</td>\n",
              "      <td>No</td>\n",
              "      <td>Fiber optic</td>\n",
              "      <td>No</td>\n",
              "      <td>No</td>\n",
              "      <td>No</td>\n",
              "      <td>No</td>\n",
              "      <td>No</td>\n",
              "      <td>No</td>\n",
              "    </tr>\n",
              "  </tbody>\n",
              "</table>\n",
              "<p>5 rows × 21 columns</p>\n",
              "</div>\n",
              "      <button class=\"colab-df-convert\" onclick=\"convertToInteractive('df-834c8c51-3499-4360-980a-7c03b296b698')\"\n",
              "              title=\"Convert this dataframe to an interactive table.\"\n",
              "              style=\"display:none;\">\n",
              "        \n",
              "  <svg xmlns=\"http://www.w3.org/2000/svg\" height=\"24px\"viewBox=\"0 0 24 24\"\n",
              "       width=\"24px\">\n",
              "    <path d=\"M0 0h24v24H0V0z\" fill=\"none\"/>\n",
              "    <path d=\"M18.56 5.44l.94 2.06.94-2.06 2.06-.94-2.06-.94-.94-2.06-.94 2.06-2.06.94zm-11 1L8.5 8.5l.94-2.06 2.06-.94-2.06-.94L8.5 2.5l-.94 2.06-2.06.94zm10 10l.94 2.06.94-2.06 2.06-.94-2.06-.94-.94-2.06-.94 2.06-2.06.94z\"/><path d=\"M17.41 7.96l-1.37-1.37c-.4-.4-.92-.59-1.43-.59-.52 0-1.04.2-1.43.59L10.3 9.45l-7.72 7.72c-.78.78-.78 2.05 0 2.83L4 21.41c.39.39.9.59 1.41.59.51 0 1.02-.2 1.41-.59l7.78-7.78 2.81-2.81c.8-.78.8-2.07 0-2.86zM5.41 20L4 18.59l7.72-7.72 1.47 1.35L5.41 20z\"/>\n",
              "  </svg>\n",
              "      </button>\n",
              "      \n",
              "  <style>\n",
              "    .colab-df-container {\n",
              "      display:flex;\n",
              "      flex-wrap:wrap;\n",
              "      gap: 12px;\n",
              "    }\n",
              "\n",
              "    .colab-df-convert {\n",
              "      background-color: #E8F0FE;\n",
              "      border: none;\n",
              "      border-radius: 50%;\n",
              "      cursor: pointer;\n",
              "      display: none;\n",
              "      fill: #1967D2;\n",
              "      height: 32px;\n",
              "      padding: 0 0 0 0;\n",
              "      width: 32px;\n",
              "    }\n",
              "\n",
              "    .colab-df-convert:hover {\n",
              "      background-color: #E2EBFA;\n",
              "      box-shadow: 0px 1px 2px rgba(60, 64, 67, 0.3), 0px 1px 3px 1px rgba(60, 64, 67, 0.15);\n",
              "      fill: #174EA6;\n",
              "    }\n",
              "\n",
              "    [theme=dark] .colab-df-convert {\n",
              "      background-color: #3B4455;\n",
              "      fill: #D2E3FC;\n",
              "    }\n",
              "\n",
              "    [theme=dark] .colab-df-convert:hover {\n",
              "      background-color: #434B5C;\n",
              "      box-shadow: 0px 1px 3px 1px rgba(0, 0, 0, 0.15);\n",
              "      filter: drop-shadow(0px 1px 2px rgba(0, 0, 0, 0.3));\n",
              "      fill: #FFFFFF;\n",
              "    }\n",
              "  </style>\n",
              "\n",
              "      <script>\n",
              "        const buttonEl =\n",
              "          document.querySelector('#df-834c8c51-3499-4360-980a-7c03b296b698 button.colab-df-convert');\n",
              "        buttonEl.style.display =\n",
              "          google.colab.kernel.accessAllowed ? 'block' : 'none';\n",
              "\n",
              "        async function convertToInteractive(key) {\n",
              "          const element = document.querySelector('#df-834c8c51-3499-4360-980a-7c03b296b698');\n",
              "          const dataTable =\n",
              "            await google.colab.kernel.invokeFunction('convertToInteractive',\n",
              "                                                     [key], {});\n",
              "          if (!dataTable) return;\n",
              "\n",
              "          const docLinkHtml = 'Like what you see? Visit the ' +\n",
              "            '<a target=\"_blank\" href=https://colab.research.google.com/notebooks/data_table.ipynb>data table notebook</a>'\n",
              "            + ' to learn more about interactive tables.';\n",
              "          element.innerHTML = '';\n",
              "          dataTable['output_type'] = 'display_data';\n",
              "          await google.colab.output.renderOutput(dataTable, element);\n",
              "          const docLink = document.createElement('div');\n",
              "          docLink.innerHTML = docLinkHtml;\n",
              "          element.appendChild(docLink);\n",
              "        }\n",
              "      </script>\n",
              "    </div>\n",
              "  </div>\n",
              "  "
            ]
          },
          "metadata": {},
          "execution_count": 229
        }
      ],
      "source": [
        "data = pd.read_csv(\"/content/Churn data with flag.csv\")\n",
        "data.head()"
      ]
    },
    {
      "cell_type": "code",
      "execution_count": null,
      "metadata": {
        "id": "sdi5bBZW54e4"
      },
      "outputs": [],
      "source": [
        "df1=data.copy()"
      ]
    },
    {
      "cell_type": "code",
      "execution_count": null,
      "metadata": {
        "colab": {
          "base_uri": "https://localhost:8080/"
        },
        "id": "V4lZTAPQgXXU",
        "outputId": "541d1891-493e-459d-e8a1-13ddca12d6f7"
      },
      "outputs": [
        {
          "output_type": "execute_result",
          "data": {
            "text/plain": [
              "customerID          False\n",
              "tenure              False\n",
              "PhoneService        False\n",
              "Contract            False\n",
              "PaperlessBilling    False\n",
              "PaymentMethod       False\n",
              "MonthlyCharges      False\n",
              "TotalCharges        False\n",
              "Churn               False\n",
              "gender              False\n",
              "SeniorCitizen       False\n",
              "Partner             False\n",
              "Dependents          False\n",
              "MultipleLines       False\n",
              "InternetService     False\n",
              "OnlineSecurity      False\n",
              "OnlineBackup        False\n",
              "DeviceProtection    False\n",
              "TechSupport         False\n",
              "StreamingTV         False\n",
              "StreamingMovies     False\n",
              "dtype: bool"
            ]
          },
          "metadata": {},
          "execution_count": 231
        }
      ],
      "source": [
        "data.isnull().any()"
      ]
    },
    {
      "cell_type": "code",
      "execution_count": null,
      "metadata": {
        "colab": {
          "base_uri": "https://localhost:8080/"
        },
        "id": "QeRg_qZMgXXV",
        "outputId": "4ab53964-4cc2-4c37-8cb5-2c8648d23975"
      },
      "outputs": [
        {
          "output_type": "stream",
          "name": "stdout",
          "text": [
            "<class 'pandas.core.frame.DataFrame'>\n",
            "RangeIndex: 7043 entries, 0 to 7042\n",
            "Data columns (total 21 columns):\n",
            " #   Column            Non-Null Count  Dtype  \n",
            "---  ------            --------------  -----  \n",
            " 0   customerID        7043 non-null   object \n",
            " 1   tenure            7043 non-null   int64  \n",
            " 2   PhoneService      7043 non-null   object \n",
            " 3   Contract          7043 non-null   object \n",
            " 4   PaperlessBilling  7043 non-null   object \n",
            " 5   PaymentMethod     7043 non-null   object \n",
            " 6   MonthlyCharges    7043 non-null   float64\n",
            " 7   TotalCharges      7043 non-null   object \n",
            " 8   Churn             7043 non-null   int64  \n",
            " 9   gender            7043 non-null   object \n",
            " 10  SeniorCitizen     7043 non-null   int64  \n",
            " 11  Partner           7043 non-null   object \n",
            " 12  Dependents        7043 non-null   object \n",
            " 13  MultipleLines     7043 non-null   object \n",
            " 14  InternetService   7043 non-null   object \n",
            " 15  OnlineSecurity    7043 non-null   object \n",
            " 16  OnlineBackup      7043 non-null   object \n",
            " 17  DeviceProtection  7043 non-null   object \n",
            " 18  TechSupport       7043 non-null   object \n",
            " 19  StreamingTV       7043 non-null   object \n",
            " 20  StreamingMovies   7043 non-null   object \n",
            "dtypes: float64(1), int64(3), object(17)\n",
            "memory usage: 1.1+ MB\n"
          ]
        }
      ],
      "source": [
        "data.info()"
      ]
    },
    {
      "cell_type": "code",
      "execution_count": null,
      "metadata": {
        "colab": {
          "base_uri": "https://localhost:8080/"
        },
        "id": "sz3uRIbdgXXW",
        "outputId": "2480b281-2cac-462b-bdd8-7ca2bebd4b0f"
      },
      "outputs": [
        {
          "output_type": "execute_result",
          "data": {
            "text/plain": [
              "(7043, 21)"
            ]
          },
          "metadata": {},
          "execution_count": 233
        }
      ],
      "source": [
        "data.shape"
      ]
    },
    {
      "cell_type": "markdown",
      "metadata": {
        "id": "PZQ_gfqdDNpo"
      },
      "source": [
        "Data Clea"
      ]
    },
    {
      "cell_type": "markdown",
      "metadata": {
        "id": "BD46P8MYgXXY"
      },
      "source": [
        "### Visualize missing values"
      ]
    },
    {
      "cell_type": "code",
      "execution_count": null,
      "metadata": {
        "colab": {
          "base_uri": "https://localhost:8080/",
          "height": 678
        },
        "id": "rfmN0Fw5gXXg",
        "outputId": "33df2166-fae7-4918-babf-76b40820890b"
      },
      "outputs": [
        {
          "output_type": "execute_result",
          "data": {
            "text/plain": [
              "      customerID  tenure PhoneService  Contract PaperlessBilling  \\\n",
              "488   4472-LVYGI       0           No  Two year              Yes   \n",
              "753   3115-CZMZD       0          Yes  Two year               No   \n",
              "936   5709-LVOEQ       0          Yes  Two year               No   \n",
              "1082  4367-NUYAO       0          Yes  Two year               No   \n",
              "1340  1371-DWPAZ       0           No  Two year               No   \n",
              "3331  7644-OMVMY       0          Yes  Two year               No   \n",
              "3826  3213-VVOLG       0          Yes  Two year               No   \n",
              "4380  2520-SGTTA       0          Yes  Two year               No   \n",
              "5218  2923-ARZLG       0          Yes  One year              Yes   \n",
              "6670  4075-WKNIU       0          Yes  Two year               No   \n",
              "6754  2775-SEFEE       0          Yes  Two year              Yes   \n",
              "\n",
              "                  PaymentMethod  MonthlyCharges TotalCharges  Churn  gender  \\\n",
              "488   Bank transfer (automatic)           52.55                   0  Female   \n",
              "753                Mailed check           20.25                   0    Male   \n",
              "936                Mailed check           80.85                   0  Female   \n",
              "1082               Mailed check           25.75                   0    Male   \n",
              "1340    Credit card (automatic)           56.05                   0  Female   \n",
              "3331               Mailed check           19.85                   0    Male   \n",
              "3826               Mailed check           25.35                   0    Male   \n",
              "4380               Mailed check           20.00                   0  Female   \n",
              "5218               Mailed check           19.70                   0    Male   \n",
              "6670               Mailed check           73.35                   0  Female   \n",
              "6754  Bank transfer (automatic)           61.90                   0    Male   \n",
              "\n",
              "      ...  Partner Dependents     MultipleLines InternetService  \\\n",
              "488   ...      Yes        Yes  No phone service             DSL   \n",
              "753   ...       No        Yes                No              No   \n",
              "936   ...      Yes        Yes                No             DSL   \n",
              "1082  ...      Yes        Yes               Yes              No   \n",
              "1340  ...      Yes        Yes  No phone service             DSL   \n",
              "3331  ...      Yes        Yes                No              No   \n",
              "3826  ...      Yes        Yes               Yes              No   \n",
              "4380  ...      Yes        Yes                No              No   \n",
              "5218  ...      Yes        Yes                No              No   \n",
              "6670  ...      Yes        Yes               Yes             DSL   \n",
              "6754  ...       No        Yes               Yes             DSL   \n",
              "\n",
              "           OnlineSecurity         OnlineBackup     DeviceProtection  \\\n",
              "488                   Yes                   No                  Yes   \n",
              "753   No internet service  No internet service  No internet service   \n",
              "936                   Yes                  Yes                  Yes   \n",
              "1082  No internet service  No internet service  No internet service   \n",
              "1340                  Yes                  Yes                  Yes   \n",
              "3331  No internet service  No internet service  No internet service   \n",
              "3826  No internet service  No internet service  No internet service   \n",
              "4380  No internet service  No internet service  No internet service   \n",
              "5218  No internet service  No internet service  No internet service   \n",
              "6670                   No                  Yes                  Yes   \n",
              "6754                  Yes                  Yes                   No   \n",
              "\n",
              "              TechSupport          StreamingTV      StreamingMovies  \n",
              "488                   Yes                  Yes                   No  \n",
              "753   No internet service  No internet service  No internet service  \n",
              "936                    No                  Yes                  Yes  \n",
              "1082  No internet service  No internet service  No internet service  \n",
              "1340                  Yes                  Yes                   No  \n",
              "3331  No internet service  No internet service  No internet service  \n",
              "3826  No internet service  No internet service  No internet service  \n",
              "4380  No internet service  No internet service  No internet service  \n",
              "5218  No internet service  No internet service  No internet service  \n",
              "6670                  Yes                  Yes                   No  \n",
              "6754                  Yes                   No                   No  \n",
              "\n",
              "[11 rows x 21 columns]"
            ],
            "text/html": [
              "\n",
              "  <div id=\"df-7dfa9d0c-a6a5-412d-92c2-ac6d0bf9575a\">\n",
              "    <div class=\"colab-df-container\">\n",
              "      <div>\n",
              "<style scoped>\n",
              "    .dataframe tbody tr th:only-of-type {\n",
              "        vertical-align: middle;\n",
              "    }\n",
              "\n",
              "    .dataframe tbody tr th {\n",
              "        vertical-align: top;\n",
              "    }\n",
              "\n",
              "    .dataframe thead th {\n",
              "        text-align: right;\n",
              "    }\n",
              "</style>\n",
              "<table border=\"1\" class=\"dataframe\">\n",
              "  <thead>\n",
              "    <tr style=\"text-align: right;\">\n",
              "      <th></th>\n",
              "      <th>customerID</th>\n",
              "      <th>tenure</th>\n",
              "      <th>PhoneService</th>\n",
              "      <th>Contract</th>\n",
              "      <th>PaperlessBilling</th>\n",
              "      <th>PaymentMethod</th>\n",
              "      <th>MonthlyCharges</th>\n",
              "      <th>TotalCharges</th>\n",
              "      <th>Churn</th>\n",
              "      <th>gender</th>\n",
              "      <th>...</th>\n",
              "      <th>Partner</th>\n",
              "      <th>Dependents</th>\n",
              "      <th>MultipleLines</th>\n",
              "      <th>InternetService</th>\n",
              "      <th>OnlineSecurity</th>\n",
              "      <th>OnlineBackup</th>\n",
              "      <th>DeviceProtection</th>\n",
              "      <th>TechSupport</th>\n",
              "      <th>StreamingTV</th>\n",
              "      <th>StreamingMovies</th>\n",
              "    </tr>\n",
              "  </thead>\n",
              "  <tbody>\n",
              "    <tr>\n",
              "      <th>488</th>\n",
              "      <td>4472-LVYGI</td>\n",
              "      <td>0</td>\n",
              "      <td>No</td>\n",
              "      <td>Two year</td>\n",
              "      <td>Yes</td>\n",
              "      <td>Bank transfer (automatic)</td>\n",
              "      <td>52.55</td>\n",
              "      <td></td>\n",
              "      <td>0</td>\n",
              "      <td>Female</td>\n",
              "      <td>...</td>\n",
              "      <td>Yes</td>\n",
              "      <td>Yes</td>\n",
              "      <td>No phone service</td>\n",
              "      <td>DSL</td>\n",
              "      <td>Yes</td>\n",
              "      <td>No</td>\n",
              "      <td>Yes</td>\n",
              "      <td>Yes</td>\n",
              "      <td>Yes</td>\n",
              "      <td>No</td>\n",
              "    </tr>\n",
              "    <tr>\n",
              "      <th>753</th>\n",
              "      <td>3115-CZMZD</td>\n",
              "      <td>0</td>\n",
              "      <td>Yes</td>\n",
              "      <td>Two year</td>\n",
              "      <td>No</td>\n",
              "      <td>Mailed check</td>\n",
              "      <td>20.25</td>\n",
              "      <td></td>\n",
              "      <td>0</td>\n",
              "      <td>Male</td>\n",
              "      <td>...</td>\n",
              "      <td>No</td>\n",
              "      <td>Yes</td>\n",
              "      <td>No</td>\n",
              "      <td>No</td>\n",
              "      <td>No internet service</td>\n",
              "      <td>No internet service</td>\n",
              "      <td>No internet service</td>\n",
              "      <td>No internet service</td>\n",
              "      <td>No internet service</td>\n",
              "      <td>No internet service</td>\n",
              "    </tr>\n",
              "    <tr>\n",
              "      <th>936</th>\n",
              "      <td>5709-LVOEQ</td>\n",
              "      <td>0</td>\n",
              "      <td>Yes</td>\n",
              "      <td>Two year</td>\n",
              "      <td>No</td>\n",
              "      <td>Mailed check</td>\n",
              "      <td>80.85</td>\n",
              "      <td></td>\n",
              "      <td>0</td>\n",
              "      <td>Female</td>\n",
              "      <td>...</td>\n",
              "      <td>Yes</td>\n",
              "      <td>Yes</td>\n",
              "      <td>No</td>\n",
              "      <td>DSL</td>\n",
              "      <td>Yes</td>\n",
              "      <td>Yes</td>\n",
              "      <td>Yes</td>\n",
              "      <td>No</td>\n",
              "      <td>Yes</td>\n",
              "      <td>Yes</td>\n",
              "    </tr>\n",
              "    <tr>\n",
              "      <th>1082</th>\n",
              "      <td>4367-NUYAO</td>\n",
              "      <td>0</td>\n",
              "      <td>Yes</td>\n",
              "      <td>Two year</td>\n",
              "      <td>No</td>\n",
              "      <td>Mailed check</td>\n",
              "      <td>25.75</td>\n",
              "      <td></td>\n",
              "      <td>0</td>\n",
              "      <td>Male</td>\n",
              "      <td>...</td>\n",
              "      <td>Yes</td>\n",
              "      <td>Yes</td>\n",
              "      <td>Yes</td>\n",
              "      <td>No</td>\n",
              "      <td>No internet service</td>\n",
              "      <td>No internet service</td>\n",
              "      <td>No internet service</td>\n",
              "      <td>No internet service</td>\n",
              "      <td>No internet service</td>\n",
              "      <td>No internet service</td>\n",
              "    </tr>\n",
              "    <tr>\n",
              "      <th>1340</th>\n",
              "      <td>1371-DWPAZ</td>\n",
              "      <td>0</td>\n",
              "      <td>No</td>\n",
              "      <td>Two year</td>\n",
              "      <td>No</td>\n",
              "      <td>Credit card (automatic)</td>\n",
              "      <td>56.05</td>\n",
              "      <td></td>\n",
              "      <td>0</td>\n",
              "      <td>Female</td>\n",
              "      <td>...</td>\n",
              "      <td>Yes</td>\n",
              "      <td>Yes</td>\n",
              "      <td>No phone service</td>\n",
              "      <td>DSL</td>\n",
              "      <td>Yes</td>\n",
              "      <td>Yes</td>\n",
              "      <td>Yes</td>\n",
              "      <td>Yes</td>\n",
              "      <td>Yes</td>\n",
              "      <td>No</td>\n",
              "    </tr>\n",
              "    <tr>\n",
              "      <th>3331</th>\n",
              "      <td>7644-OMVMY</td>\n",
              "      <td>0</td>\n",
              "      <td>Yes</td>\n",
              "      <td>Two year</td>\n",
              "      <td>No</td>\n",
              "      <td>Mailed check</td>\n",
              "      <td>19.85</td>\n",
              "      <td></td>\n",
              "      <td>0</td>\n",
              "      <td>Male</td>\n",
              "      <td>...</td>\n",
              "      <td>Yes</td>\n",
              "      <td>Yes</td>\n",
              "      <td>No</td>\n",
              "      <td>No</td>\n",
              "      <td>No internet service</td>\n",
              "      <td>No internet service</td>\n",
              "      <td>No internet service</td>\n",
              "      <td>No internet service</td>\n",
              "      <td>No internet service</td>\n",
              "      <td>No internet service</td>\n",
              "    </tr>\n",
              "    <tr>\n",
              "      <th>3826</th>\n",
              "      <td>3213-VVOLG</td>\n",
              "      <td>0</td>\n",
              "      <td>Yes</td>\n",
              "      <td>Two year</td>\n",
              "      <td>No</td>\n",
              "      <td>Mailed check</td>\n",
              "      <td>25.35</td>\n",
              "      <td></td>\n",
              "      <td>0</td>\n",
              "      <td>Male</td>\n",
              "      <td>...</td>\n",
              "      <td>Yes</td>\n",
              "      <td>Yes</td>\n",
              "      <td>Yes</td>\n",
              "      <td>No</td>\n",
              "      <td>No internet service</td>\n",
              "      <td>No internet service</td>\n",
              "      <td>No internet service</td>\n",
              "      <td>No internet service</td>\n",
              "      <td>No internet service</td>\n",
              "      <td>No internet service</td>\n",
              "    </tr>\n",
              "    <tr>\n",
              "      <th>4380</th>\n",
              "      <td>2520-SGTTA</td>\n",
              "      <td>0</td>\n",
              "      <td>Yes</td>\n",
              "      <td>Two year</td>\n",
              "      <td>No</td>\n",
              "      <td>Mailed check</td>\n",
              "      <td>20.00</td>\n",
              "      <td></td>\n",
              "      <td>0</td>\n",
              "      <td>Female</td>\n",
              "      <td>...</td>\n",
              "      <td>Yes</td>\n",
              "      <td>Yes</td>\n",
              "      <td>No</td>\n",
              "      <td>No</td>\n",
              "      <td>No internet service</td>\n",
              "      <td>No internet service</td>\n",
              "      <td>No internet service</td>\n",
              "      <td>No internet service</td>\n",
              "      <td>No internet service</td>\n",
              "      <td>No internet service</td>\n",
              "    </tr>\n",
              "    <tr>\n",
              "      <th>5218</th>\n",
              "      <td>2923-ARZLG</td>\n",
              "      <td>0</td>\n",
              "      <td>Yes</td>\n",
              "      <td>One year</td>\n",
              "      <td>Yes</td>\n",
              "      <td>Mailed check</td>\n",
              "      <td>19.70</td>\n",
              "      <td></td>\n",
              "      <td>0</td>\n",
              "      <td>Male</td>\n",
              "      <td>...</td>\n",
              "      <td>Yes</td>\n",
              "      <td>Yes</td>\n",
              "      <td>No</td>\n",
              "      <td>No</td>\n",
              "      <td>No internet service</td>\n",
              "      <td>No internet service</td>\n",
              "      <td>No internet service</td>\n",
              "      <td>No internet service</td>\n",
              "      <td>No internet service</td>\n",
              "      <td>No internet service</td>\n",
              "    </tr>\n",
              "    <tr>\n",
              "      <th>6670</th>\n",
              "      <td>4075-WKNIU</td>\n",
              "      <td>0</td>\n",
              "      <td>Yes</td>\n",
              "      <td>Two year</td>\n",
              "      <td>No</td>\n",
              "      <td>Mailed check</td>\n",
              "      <td>73.35</td>\n",
              "      <td></td>\n",
              "      <td>0</td>\n",
              "      <td>Female</td>\n",
              "      <td>...</td>\n",
              "      <td>Yes</td>\n",
              "      <td>Yes</td>\n",
              "      <td>Yes</td>\n",
              "      <td>DSL</td>\n",
              "      <td>No</td>\n",
              "      <td>Yes</td>\n",
              "      <td>Yes</td>\n",
              "      <td>Yes</td>\n",
              "      <td>Yes</td>\n",
              "      <td>No</td>\n",
              "    </tr>\n",
              "    <tr>\n",
              "      <th>6754</th>\n",
              "      <td>2775-SEFEE</td>\n",
              "      <td>0</td>\n",
              "      <td>Yes</td>\n",
              "      <td>Two year</td>\n",
              "      <td>Yes</td>\n",
              "      <td>Bank transfer (automatic)</td>\n",
              "      <td>61.90</td>\n",
              "      <td></td>\n",
              "      <td>0</td>\n",
              "      <td>Male</td>\n",
              "      <td>...</td>\n",
              "      <td>No</td>\n",
              "      <td>Yes</td>\n",
              "      <td>Yes</td>\n",
              "      <td>DSL</td>\n",
              "      <td>Yes</td>\n",
              "      <td>Yes</td>\n",
              "      <td>No</td>\n",
              "      <td>Yes</td>\n",
              "      <td>No</td>\n",
              "      <td>No</td>\n",
              "    </tr>\n",
              "  </tbody>\n",
              "</table>\n",
              "<p>11 rows × 21 columns</p>\n",
              "</div>\n",
              "      <button class=\"colab-df-convert\" onclick=\"convertToInteractive('df-7dfa9d0c-a6a5-412d-92c2-ac6d0bf9575a')\"\n",
              "              title=\"Convert this dataframe to an interactive table.\"\n",
              "              style=\"display:none;\">\n",
              "        \n",
              "  <svg xmlns=\"http://www.w3.org/2000/svg\" height=\"24px\"viewBox=\"0 0 24 24\"\n",
              "       width=\"24px\">\n",
              "    <path d=\"M0 0h24v24H0V0z\" fill=\"none\"/>\n",
              "    <path d=\"M18.56 5.44l.94 2.06.94-2.06 2.06-.94-2.06-.94-.94-2.06-.94 2.06-2.06.94zm-11 1L8.5 8.5l.94-2.06 2.06-.94-2.06-.94L8.5 2.5l-.94 2.06-2.06.94zm10 10l.94 2.06.94-2.06 2.06-.94-2.06-.94-.94-2.06-.94 2.06-2.06.94z\"/><path d=\"M17.41 7.96l-1.37-1.37c-.4-.4-.92-.59-1.43-.59-.52 0-1.04.2-1.43.59L10.3 9.45l-7.72 7.72c-.78.78-.78 2.05 0 2.83L4 21.41c.39.39.9.59 1.41.59.51 0 1.02-.2 1.41-.59l7.78-7.78 2.81-2.81c.8-.78.8-2.07 0-2.86zM5.41 20L4 18.59l7.72-7.72 1.47 1.35L5.41 20z\"/>\n",
              "  </svg>\n",
              "      </button>\n",
              "      \n",
              "  <style>\n",
              "    .colab-df-container {\n",
              "      display:flex;\n",
              "      flex-wrap:wrap;\n",
              "      gap: 12px;\n",
              "    }\n",
              "\n",
              "    .colab-df-convert {\n",
              "      background-color: #E8F0FE;\n",
              "      border: none;\n",
              "      border-radius: 50%;\n",
              "      cursor: pointer;\n",
              "      display: none;\n",
              "      fill: #1967D2;\n",
              "      height: 32px;\n",
              "      padding: 0 0 0 0;\n",
              "      width: 32px;\n",
              "    }\n",
              "\n",
              "    .colab-df-convert:hover {\n",
              "      background-color: #E2EBFA;\n",
              "      box-shadow: 0px 1px 2px rgba(60, 64, 67, 0.3), 0px 1px 3px 1px rgba(60, 64, 67, 0.15);\n",
              "      fill: #174EA6;\n",
              "    }\n",
              "\n",
              "    [theme=dark] .colab-df-convert {\n",
              "      background-color: #3B4455;\n",
              "      fill: #D2E3FC;\n",
              "    }\n",
              "\n",
              "    [theme=dark] .colab-df-convert:hover {\n",
              "      background-color: #434B5C;\n",
              "      box-shadow: 0px 1px 3px 1px rgba(0, 0, 0, 0.15);\n",
              "      filter: drop-shadow(0px 1px 2px rgba(0, 0, 0, 0.3));\n",
              "      fill: #FFFFFF;\n",
              "    }\n",
              "  </style>\n",
              "\n",
              "      <script>\n",
              "        const buttonEl =\n",
              "          document.querySelector('#df-7dfa9d0c-a6a5-412d-92c2-ac6d0bf9575a button.colab-df-convert');\n",
              "        buttonEl.style.display =\n",
              "          google.colab.kernel.accessAllowed ? 'block' : 'none';\n",
              "\n",
              "        async function convertToInteractive(key) {\n",
              "          const element = document.querySelector('#df-7dfa9d0c-a6a5-412d-92c2-ac6d0bf9575a');\n",
              "          const dataTable =\n",
              "            await google.colab.kernel.invokeFunction('convertToInteractive',\n",
              "                                                     [key], {});\n",
              "          if (!dataTable) return;\n",
              "\n",
              "          const docLinkHtml = 'Like what you see? Visit the ' +\n",
              "            '<a target=\"_blank\" href=https://colab.research.google.com/notebooks/data_table.ipynb>data table notebook</a>'\n",
              "            + ' to learn more about interactive tables.';\n",
              "          element.innerHTML = '';\n",
              "          dataTable['output_type'] = 'display_data';\n",
              "          await google.colab.output.renderOutput(dataTable, element);\n",
              "          const docLink = document.createElement('div');\n",
              "          docLink.innerHTML = docLinkHtml;\n",
              "          element.appendChild(docLink);\n",
              "        }\n",
              "      </script>\n",
              "    </div>\n",
              "  </div>\n",
              "  "
            ]
          },
          "metadata": {},
          "execution_count": 234
        }
      ],
      "source": [
        "data[data[\"TotalCharges\"] == ' ']\n"
      ]
    },
    {
      "cell_type": "code",
      "execution_count": null,
      "metadata": {
        "colab": {
          "base_uri": "https://localhost:8080/"
        },
        "id": "WOpqPyVMgXXh",
        "outputId": "0f69374f-2d86-4523-e539-1c17bb404244"
      },
      "outputs": [
        {
          "output_type": "execute_result",
          "data": {
            "text/plain": [
              "customerID           0\n",
              "tenure               0\n",
              "PhoneService         0\n",
              "Contract             0\n",
              "PaperlessBilling     0\n",
              "PaymentMethod        0\n",
              "MonthlyCharges       0\n",
              "TotalCharges        11\n",
              "Churn                0\n",
              "gender               0\n",
              "SeniorCitizen        0\n",
              "Partner              0\n",
              "Dependents           0\n",
              "MultipleLines        0\n",
              "InternetService      0\n",
              "OnlineSecurity       0\n",
              "OnlineBackup         0\n",
              "DeviceProtection     0\n",
              "TechSupport          0\n",
              "StreamingTV          0\n",
              "StreamingMovies      0\n",
              "dtype: int64"
            ]
          },
          "metadata": {},
          "execution_count": 235
        }
      ],
      "source": [
        "data['TotalCharges'] = pd.to_numeric(data.TotalCharges, errors='coerce')\n",
        "data.isnull().sum()"
      ]
    },
    {
      "cell_type": "markdown",
      "metadata": {
        "id": "8qTnYTrugXXi"
      },
      "source": [
        "### There are 11 records with missing Total charges"
      ]
    },
    {
      "cell_type": "code",
      "execution_count": null,
      "metadata": {
        "colab": {
          "base_uri": "https://localhost:8080/",
          "height": 678
        },
        "id": "ICxYqtiSgXXj",
        "outputId": "ec357fbd-d2fd-4172-c5e3-66ca2c0b87f8"
      },
      "outputs": [
        {
          "output_type": "execute_result",
          "data": {
            "text/plain": [
              "      customerID  tenure PhoneService  Contract PaperlessBilling  \\\n",
              "488   4472-LVYGI       0           No  Two year              Yes   \n",
              "753   3115-CZMZD       0          Yes  Two year               No   \n",
              "936   5709-LVOEQ       0          Yes  Two year               No   \n",
              "1082  4367-NUYAO       0          Yes  Two year               No   \n",
              "1340  1371-DWPAZ       0           No  Two year               No   \n",
              "3331  7644-OMVMY       0          Yes  Two year               No   \n",
              "3826  3213-VVOLG       0          Yes  Two year               No   \n",
              "4380  2520-SGTTA       0          Yes  Two year               No   \n",
              "5218  2923-ARZLG       0          Yes  One year              Yes   \n",
              "6670  4075-WKNIU       0          Yes  Two year               No   \n",
              "6754  2775-SEFEE       0          Yes  Two year              Yes   \n",
              "\n",
              "                  PaymentMethod  MonthlyCharges  TotalCharges  Churn  gender  \\\n",
              "488   Bank transfer (automatic)           52.55           NaN      0  Female   \n",
              "753                Mailed check           20.25           NaN      0    Male   \n",
              "936                Mailed check           80.85           NaN      0  Female   \n",
              "1082               Mailed check           25.75           NaN      0    Male   \n",
              "1340    Credit card (automatic)           56.05           NaN      0  Female   \n",
              "3331               Mailed check           19.85           NaN      0    Male   \n",
              "3826               Mailed check           25.35           NaN      0    Male   \n",
              "4380               Mailed check           20.00           NaN      0  Female   \n",
              "5218               Mailed check           19.70           NaN      0    Male   \n",
              "6670               Mailed check           73.35           NaN      0  Female   \n",
              "6754  Bank transfer (automatic)           61.90           NaN      0    Male   \n",
              "\n",
              "      ...  Partner Dependents     MultipleLines InternetService  \\\n",
              "488   ...      Yes        Yes  No phone service             DSL   \n",
              "753   ...       No        Yes                No              No   \n",
              "936   ...      Yes        Yes                No             DSL   \n",
              "1082  ...      Yes        Yes               Yes              No   \n",
              "1340  ...      Yes        Yes  No phone service             DSL   \n",
              "3331  ...      Yes        Yes                No              No   \n",
              "3826  ...      Yes        Yes               Yes              No   \n",
              "4380  ...      Yes        Yes                No              No   \n",
              "5218  ...      Yes        Yes                No              No   \n",
              "6670  ...      Yes        Yes               Yes             DSL   \n",
              "6754  ...       No        Yes               Yes             DSL   \n",
              "\n",
              "           OnlineSecurity         OnlineBackup     DeviceProtection  \\\n",
              "488                   Yes                   No                  Yes   \n",
              "753   No internet service  No internet service  No internet service   \n",
              "936                   Yes                  Yes                  Yes   \n",
              "1082  No internet service  No internet service  No internet service   \n",
              "1340                  Yes                  Yes                  Yes   \n",
              "3331  No internet service  No internet service  No internet service   \n",
              "3826  No internet service  No internet service  No internet service   \n",
              "4380  No internet service  No internet service  No internet service   \n",
              "5218  No internet service  No internet service  No internet service   \n",
              "6670                   No                  Yes                  Yes   \n",
              "6754                  Yes                  Yes                   No   \n",
              "\n",
              "              TechSupport          StreamingTV      StreamingMovies  \n",
              "488                   Yes                  Yes                   No  \n",
              "753   No internet service  No internet service  No internet service  \n",
              "936                    No                  Yes                  Yes  \n",
              "1082  No internet service  No internet service  No internet service  \n",
              "1340                  Yes                  Yes                   No  \n",
              "3331  No internet service  No internet service  No internet service  \n",
              "3826  No internet service  No internet service  No internet service  \n",
              "4380  No internet service  No internet service  No internet service  \n",
              "5218  No internet service  No internet service  No internet service  \n",
              "6670                  Yes                  Yes                   No  \n",
              "6754                  Yes                   No                   No  \n",
              "\n",
              "[11 rows x 21 columns]"
            ],
            "text/html": [
              "\n",
              "  <div id=\"df-17973c98-a38d-4ebe-aee4-aca9711d261b\">\n",
              "    <div class=\"colab-df-container\">\n",
              "      <div>\n",
              "<style scoped>\n",
              "    .dataframe tbody tr th:only-of-type {\n",
              "        vertical-align: middle;\n",
              "    }\n",
              "\n",
              "    .dataframe tbody tr th {\n",
              "        vertical-align: top;\n",
              "    }\n",
              "\n",
              "    .dataframe thead th {\n",
              "        text-align: right;\n",
              "    }\n",
              "</style>\n",
              "<table border=\"1\" class=\"dataframe\">\n",
              "  <thead>\n",
              "    <tr style=\"text-align: right;\">\n",
              "      <th></th>\n",
              "      <th>customerID</th>\n",
              "      <th>tenure</th>\n",
              "      <th>PhoneService</th>\n",
              "      <th>Contract</th>\n",
              "      <th>PaperlessBilling</th>\n",
              "      <th>PaymentMethod</th>\n",
              "      <th>MonthlyCharges</th>\n",
              "      <th>TotalCharges</th>\n",
              "      <th>Churn</th>\n",
              "      <th>gender</th>\n",
              "      <th>...</th>\n",
              "      <th>Partner</th>\n",
              "      <th>Dependents</th>\n",
              "      <th>MultipleLines</th>\n",
              "      <th>InternetService</th>\n",
              "      <th>OnlineSecurity</th>\n",
              "      <th>OnlineBackup</th>\n",
              "      <th>DeviceProtection</th>\n",
              "      <th>TechSupport</th>\n",
              "      <th>StreamingTV</th>\n",
              "      <th>StreamingMovies</th>\n",
              "    </tr>\n",
              "  </thead>\n",
              "  <tbody>\n",
              "    <tr>\n",
              "      <th>488</th>\n",
              "      <td>4472-LVYGI</td>\n",
              "      <td>0</td>\n",
              "      <td>No</td>\n",
              "      <td>Two year</td>\n",
              "      <td>Yes</td>\n",
              "      <td>Bank transfer (automatic)</td>\n",
              "      <td>52.55</td>\n",
              "      <td>NaN</td>\n",
              "      <td>0</td>\n",
              "      <td>Female</td>\n",
              "      <td>...</td>\n",
              "      <td>Yes</td>\n",
              "      <td>Yes</td>\n",
              "      <td>No phone service</td>\n",
              "      <td>DSL</td>\n",
              "      <td>Yes</td>\n",
              "      <td>No</td>\n",
              "      <td>Yes</td>\n",
              "      <td>Yes</td>\n",
              "      <td>Yes</td>\n",
              "      <td>No</td>\n",
              "    </tr>\n",
              "    <tr>\n",
              "      <th>753</th>\n",
              "      <td>3115-CZMZD</td>\n",
              "      <td>0</td>\n",
              "      <td>Yes</td>\n",
              "      <td>Two year</td>\n",
              "      <td>No</td>\n",
              "      <td>Mailed check</td>\n",
              "      <td>20.25</td>\n",
              "      <td>NaN</td>\n",
              "      <td>0</td>\n",
              "      <td>Male</td>\n",
              "      <td>...</td>\n",
              "      <td>No</td>\n",
              "      <td>Yes</td>\n",
              "      <td>No</td>\n",
              "      <td>No</td>\n",
              "      <td>No internet service</td>\n",
              "      <td>No internet service</td>\n",
              "      <td>No internet service</td>\n",
              "      <td>No internet service</td>\n",
              "      <td>No internet service</td>\n",
              "      <td>No internet service</td>\n",
              "    </tr>\n",
              "    <tr>\n",
              "      <th>936</th>\n",
              "      <td>5709-LVOEQ</td>\n",
              "      <td>0</td>\n",
              "      <td>Yes</td>\n",
              "      <td>Two year</td>\n",
              "      <td>No</td>\n",
              "      <td>Mailed check</td>\n",
              "      <td>80.85</td>\n",
              "      <td>NaN</td>\n",
              "      <td>0</td>\n",
              "      <td>Female</td>\n",
              "      <td>...</td>\n",
              "      <td>Yes</td>\n",
              "      <td>Yes</td>\n",
              "      <td>No</td>\n",
              "      <td>DSL</td>\n",
              "      <td>Yes</td>\n",
              "      <td>Yes</td>\n",
              "      <td>Yes</td>\n",
              "      <td>No</td>\n",
              "      <td>Yes</td>\n",
              "      <td>Yes</td>\n",
              "    </tr>\n",
              "    <tr>\n",
              "      <th>1082</th>\n",
              "      <td>4367-NUYAO</td>\n",
              "      <td>0</td>\n",
              "      <td>Yes</td>\n",
              "      <td>Two year</td>\n",
              "      <td>No</td>\n",
              "      <td>Mailed check</td>\n",
              "      <td>25.75</td>\n",
              "      <td>NaN</td>\n",
              "      <td>0</td>\n",
              "      <td>Male</td>\n",
              "      <td>...</td>\n",
              "      <td>Yes</td>\n",
              "      <td>Yes</td>\n",
              "      <td>Yes</td>\n",
              "      <td>No</td>\n",
              "      <td>No internet service</td>\n",
              "      <td>No internet service</td>\n",
              "      <td>No internet service</td>\n",
              "      <td>No internet service</td>\n",
              "      <td>No internet service</td>\n",
              "      <td>No internet service</td>\n",
              "    </tr>\n",
              "    <tr>\n",
              "      <th>1340</th>\n",
              "      <td>1371-DWPAZ</td>\n",
              "      <td>0</td>\n",
              "      <td>No</td>\n",
              "      <td>Two year</td>\n",
              "      <td>No</td>\n",
              "      <td>Credit card (automatic)</td>\n",
              "      <td>56.05</td>\n",
              "      <td>NaN</td>\n",
              "      <td>0</td>\n",
              "      <td>Female</td>\n",
              "      <td>...</td>\n",
              "      <td>Yes</td>\n",
              "      <td>Yes</td>\n",
              "      <td>No phone service</td>\n",
              "      <td>DSL</td>\n",
              "      <td>Yes</td>\n",
              "      <td>Yes</td>\n",
              "      <td>Yes</td>\n",
              "      <td>Yes</td>\n",
              "      <td>Yes</td>\n",
              "      <td>No</td>\n",
              "    </tr>\n",
              "    <tr>\n",
              "      <th>3331</th>\n",
              "      <td>7644-OMVMY</td>\n",
              "      <td>0</td>\n",
              "      <td>Yes</td>\n",
              "      <td>Two year</td>\n",
              "      <td>No</td>\n",
              "      <td>Mailed check</td>\n",
              "      <td>19.85</td>\n",
              "      <td>NaN</td>\n",
              "      <td>0</td>\n",
              "      <td>Male</td>\n",
              "      <td>...</td>\n",
              "      <td>Yes</td>\n",
              "      <td>Yes</td>\n",
              "      <td>No</td>\n",
              "      <td>No</td>\n",
              "      <td>No internet service</td>\n",
              "      <td>No internet service</td>\n",
              "      <td>No internet service</td>\n",
              "      <td>No internet service</td>\n",
              "      <td>No internet service</td>\n",
              "      <td>No internet service</td>\n",
              "    </tr>\n",
              "    <tr>\n",
              "      <th>3826</th>\n",
              "      <td>3213-VVOLG</td>\n",
              "      <td>0</td>\n",
              "      <td>Yes</td>\n",
              "      <td>Two year</td>\n",
              "      <td>No</td>\n",
              "      <td>Mailed check</td>\n",
              "      <td>25.35</td>\n",
              "      <td>NaN</td>\n",
              "      <td>0</td>\n",
              "      <td>Male</td>\n",
              "      <td>...</td>\n",
              "      <td>Yes</td>\n",
              "      <td>Yes</td>\n",
              "      <td>Yes</td>\n",
              "      <td>No</td>\n",
              "      <td>No internet service</td>\n",
              "      <td>No internet service</td>\n",
              "      <td>No internet service</td>\n",
              "      <td>No internet service</td>\n",
              "      <td>No internet service</td>\n",
              "      <td>No internet service</td>\n",
              "    </tr>\n",
              "    <tr>\n",
              "      <th>4380</th>\n",
              "      <td>2520-SGTTA</td>\n",
              "      <td>0</td>\n",
              "      <td>Yes</td>\n",
              "      <td>Two year</td>\n",
              "      <td>No</td>\n",
              "      <td>Mailed check</td>\n",
              "      <td>20.00</td>\n",
              "      <td>NaN</td>\n",
              "      <td>0</td>\n",
              "      <td>Female</td>\n",
              "      <td>...</td>\n",
              "      <td>Yes</td>\n",
              "      <td>Yes</td>\n",
              "      <td>No</td>\n",
              "      <td>No</td>\n",
              "      <td>No internet service</td>\n",
              "      <td>No internet service</td>\n",
              "      <td>No internet service</td>\n",
              "      <td>No internet service</td>\n",
              "      <td>No internet service</td>\n",
              "      <td>No internet service</td>\n",
              "    </tr>\n",
              "    <tr>\n",
              "      <th>5218</th>\n",
              "      <td>2923-ARZLG</td>\n",
              "      <td>0</td>\n",
              "      <td>Yes</td>\n",
              "      <td>One year</td>\n",
              "      <td>Yes</td>\n",
              "      <td>Mailed check</td>\n",
              "      <td>19.70</td>\n",
              "      <td>NaN</td>\n",
              "      <td>0</td>\n",
              "      <td>Male</td>\n",
              "      <td>...</td>\n",
              "      <td>Yes</td>\n",
              "      <td>Yes</td>\n",
              "      <td>No</td>\n",
              "      <td>No</td>\n",
              "      <td>No internet service</td>\n",
              "      <td>No internet service</td>\n",
              "      <td>No internet service</td>\n",
              "      <td>No internet service</td>\n",
              "      <td>No internet service</td>\n",
              "      <td>No internet service</td>\n",
              "    </tr>\n",
              "    <tr>\n",
              "      <th>6670</th>\n",
              "      <td>4075-WKNIU</td>\n",
              "      <td>0</td>\n",
              "      <td>Yes</td>\n",
              "      <td>Two year</td>\n",
              "      <td>No</td>\n",
              "      <td>Mailed check</td>\n",
              "      <td>73.35</td>\n",
              "      <td>NaN</td>\n",
              "      <td>0</td>\n",
              "      <td>Female</td>\n",
              "      <td>...</td>\n",
              "      <td>Yes</td>\n",
              "      <td>Yes</td>\n",
              "      <td>Yes</td>\n",
              "      <td>DSL</td>\n",
              "      <td>No</td>\n",
              "      <td>Yes</td>\n",
              "      <td>Yes</td>\n",
              "      <td>Yes</td>\n",
              "      <td>Yes</td>\n",
              "      <td>No</td>\n",
              "    </tr>\n",
              "    <tr>\n",
              "      <th>6754</th>\n",
              "      <td>2775-SEFEE</td>\n",
              "      <td>0</td>\n",
              "      <td>Yes</td>\n",
              "      <td>Two year</td>\n",
              "      <td>Yes</td>\n",
              "      <td>Bank transfer (automatic)</td>\n",
              "      <td>61.90</td>\n",
              "      <td>NaN</td>\n",
              "      <td>0</td>\n",
              "      <td>Male</td>\n",
              "      <td>...</td>\n",
              "      <td>No</td>\n",
              "      <td>Yes</td>\n",
              "      <td>Yes</td>\n",
              "      <td>DSL</td>\n",
              "      <td>Yes</td>\n",
              "      <td>Yes</td>\n",
              "      <td>No</td>\n",
              "      <td>Yes</td>\n",
              "      <td>No</td>\n",
              "      <td>No</td>\n",
              "    </tr>\n",
              "  </tbody>\n",
              "</table>\n",
              "<p>11 rows × 21 columns</p>\n",
              "</div>\n",
              "      <button class=\"colab-df-convert\" onclick=\"convertToInteractive('df-17973c98-a38d-4ebe-aee4-aca9711d261b')\"\n",
              "              title=\"Convert this dataframe to an interactive table.\"\n",
              "              style=\"display:none;\">\n",
              "        \n",
              "  <svg xmlns=\"http://www.w3.org/2000/svg\" height=\"24px\"viewBox=\"0 0 24 24\"\n",
              "       width=\"24px\">\n",
              "    <path d=\"M0 0h24v24H0V0z\" fill=\"none\"/>\n",
              "    <path d=\"M18.56 5.44l.94 2.06.94-2.06 2.06-.94-2.06-.94-.94-2.06-.94 2.06-2.06.94zm-11 1L8.5 8.5l.94-2.06 2.06-.94-2.06-.94L8.5 2.5l-.94 2.06-2.06.94zm10 10l.94 2.06.94-2.06 2.06-.94-2.06-.94-.94-2.06-.94 2.06-2.06.94z\"/><path d=\"M17.41 7.96l-1.37-1.37c-.4-.4-.92-.59-1.43-.59-.52 0-1.04.2-1.43.59L10.3 9.45l-7.72 7.72c-.78.78-.78 2.05 0 2.83L4 21.41c.39.39.9.59 1.41.59.51 0 1.02-.2 1.41-.59l7.78-7.78 2.81-2.81c.8-.78.8-2.07 0-2.86zM5.41 20L4 18.59l7.72-7.72 1.47 1.35L5.41 20z\"/>\n",
              "  </svg>\n",
              "      </button>\n",
              "      \n",
              "  <style>\n",
              "    .colab-df-container {\n",
              "      display:flex;\n",
              "      flex-wrap:wrap;\n",
              "      gap: 12px;\n",
              "    }\n",
              "\n",
              "    .colab-df-convert {\n",
              "      background-color: #E8F0FE;\n",
              "      border: none;\n",
              "      border-radius: 50%;\n",
              "      cursor: pointer;\n",
              "      display: none;\n",
              "      fill: #1967D2;\n",
              "      height: 32px;\n",
              "      padding: 0 0 0 0;\n",
              "      width: 32px;\n",
              "    }\n",
              "\n",
              "    .colab-df-convert:hover {\n",
              "      background-color: #E2EBFA;\n",
              "      box-shadow: 0px 1px 2px rgba(60, 64, 67, 0.3), 0px 1px 3px 1px rgba(60, 64, 67, 0.15);\n",
              "      fill: #174EA6;\n",
              "    }\n",
              "\n",
              "    [theme=dark] .colab-df-convert {\n",
              "      background-color: #3B4455;\n",
              "      fill: #D2E3FC;\n",
              "    }\n",
              "\n",
              "    [theme=dark] .colab-df-convert:hover {\n",
              "      background-color: #434B5C;\n",
              "      box-shadow: 0px 1px 3px 1px rgba(0, 0, 0, 0.15);\n",
              "      filter: drop-shadow(0px 1px 2px rgba(0, 0, 0, 0.3));\n",
              "      fill: #FFFFFF;\n",
              "    }\n",
              "  </style>\n",
              "\n",
              "      <script>\n",
              "        const buttonEl =\n",
              "          document.querySelector('#df-17973c98-a38d-4ebe-aee4-aca9711d261b button.colab-df-convert');\n",
              "        buttonEl.style.display =\n",
              "          google.colab.kernel.accessAllowed ? 'block' : 'none';\n",
              "\n",
              "        async function convertToInteractive(key) {\n",
              "          const element = document.querySelector('#df-17973c98-a38d-4ebe-aee4-aca9711d261b');\n",
              "          const dataTable =\n",
              "            await google.colab.kernel.invokeFunction('convertToInteractive',\n",
              "                                                     [key], {});\n",
              "          if (!dataTable) return;\n",
              "\n",
              "          const docLinkHtml = 'Like what you see? Visit the ' +\n",
              "            '<a target=\"_blank\" href=https://colab.research.google.com/notebooks/data_table.ipynb>data table notebook</a>'\n",
              "            + ' to learn more about interactive tables.';\n",
              "          element.innerHTML = '';\n",
              "          dataTable['output_type'] = 'display_data';\n",
              "          await google.colab.output.renderOutput(dataTable, element);\n",
              "          const docLink = document.createElement('div');\n",
              "          docLink.innerHTML = docLinkHtml;\n",
              "          element.appendChild(docLink);\n",
              "        }\n",
              "      </script>\n",
              "    </div>\n",
              "  </div>\n",
              "  "
            ]
          },
          "metadata": {},
          "execution_count": 236
        }
      ],
      "source": [
        "data[data[\"tenure\"] == 0]"
      ]
    },
    {
      "cell_type": "code",
      "execution_count": null,
      "metadata": {
        "id": "5KY_d4G1gXXk"
      },
      "outputs": [],
      "source": [
        "data.drop(labels=data[data[\"tenure\"] == 0].index, axis = 0, inplace = True)"
      ]
    },
    {
      "cell_type": "code",
      "execution_count": null,
      "metadata": {
        "colab": {
          "base_uri": "https://localhost:8080/",
          "height": 661
        },
        "id": "7n4M3b1RgXXl",
        "outputId": "7b90ae88-ea63-4a00-c646-03662287b14d"
      },
      "outputs": [
        {
          "output_type": "execute_result",
          "data": {
            "text/plain": [
              "      customerID  tenure PhoneService        Contract PaperlessBilling  \\\n",
              "0     7590-VHVEG       1           No  Month-to-month              Yes   \n",
              "1     5575-GNVDE      34          Yes        One year               No   \n",
              "2     3668-QPYBK       2          Yes  Month-to-month              Yes   \n",
              "3     7795-CFOCW      45           No        One year               No   \n",
              "4     9237-HQITU       2          Yes  Month-to-month              Yes   \n",
              "...          ...     ...          ...             ...              ...   \n",
              "7038  6840-RESVB      24          Yes        One year              Yes   \n",
              "7039  2234-XADUH      72          Yes        One year              Yes   \n",
              "7040  4801-JZAZL      11           No  Month-to-month              Yes   \n",
              "7041  8361-LTMKD       4          Yes  Month-to-month              Yes   \n",
              "7042  3186-AJIEK      66          Yes        Two year              Yes   \n",
              "\n",
              "                  PaymentMethod  MonthlyCharges  TotalCharges  Churn  gender  \\\n",
              "0              Electronic check           29.85         29.85      0  Female   \n",
              "1                  Mailed check           56.95       1889.50      0    Male   \n",
              "2                  Mailed check           53.85        108.15      1    Male   \n",
              "3     Bank transfer (automatic)           42.30       1840.75      0    Male   \n",
              "4              Electronic check           70.70        151.65      1  Female   \n",
              "...                         ...             ...           ...    ...     ...   \n",
              "7038               Mailed check           84.80       1990.50      0    Male   \n",
              "7039    Credit card (automatic)          103.20       7362.90      0  Female   \n",
              "7040           Electronic check           29.60        346.45      0  Female   \n",
              "7041               Mailed check           74.40        306.60      1    Male   \n",
              "7042  Bank transfer (automatic)          105.65       6844.50      0    Male   \n",
              "\n",
              "      ...  Partner Dependents     MultipleLines InternetService  \\\n",
              "0     ...      Yes         No  No phone service             DSL   \n",
              "1     ...       No         No                No             DSL   \n",
              "2     ...       No         No                No             DSL   \n",
              "3     ...       No         No  No phone service             DSL   \n",
              "4     ...       No         No                No     Fiber optic   \n",
              "...   ...      ...        ...               ...             ...   \n",
              "7038  ...      Yes        Yes               Yes             DSL   \n",
              "7039  ...      Yes        Yes               Yes     Fiber optic   \n",
              "7040  ...      Yes        Yes  No phone service             DSL   \n",
              "7041  ...      Yes         No               Yes     Fiber optic   \n",
              "7042  ...       No         No                No     Fiber optic   \n",
              "\n",
              "     OnlineSecurity OnlineBackup DeviceProtection TechSupport StreamingTV  \\\n",
              "0                No          Yes               No          No          No   \n",
              "1               Yes           No              Yes          No          No   \n",
              "2               Yes          Yes               No          No          No   \n",
              "3               Yes           No              Yes         Yes          No   \n",
              "4                No           No               No          No          No   \n",
              "...             ...          ...              ...         ...         ...   \n",
              "7038            Yes           No              Yes         Yes         Yes   \n",
              "7039             No          Yes              Yes          No         Yes   \n",
              "7040            Yes           No               No          No          No   \n",
              "7041             No           No               No          No          No   \n",
              "7042            Yes           No              Yes         Yes         Yes   \n",
              "\n",
              "     StreamingMovies  \n",
              "0                 No  \n",
              "1                 No  \n",
              "2                 No  \n",
              "3                 No  \n",
              "4                 No  \n",
              "...              ...  \n",
              "7038             Yes  \n",
              "7039             Yes  \n",
              "7040              No  \n",
              "7041              No  \n",
              "7042             Yes  \n",
              "\n",
              "[7032 rows x 21 columns]"
            ],
            "text/html": [
              "\n",
              "  <div id=\"df-6193c86d-a4f3-48af-bb53-97de94baf37e\">\n",
              "    <div class=\"colab-df-container\">\n",
              "      <div>\n",
              "<style scoped>\n",
              "    .dataframe tbody tr th:only-of-type {\n",
              "        vertical-align: middle;\n",
              "    }\n",
              "\n",
              "    .dataframe tbody tr th {\n",
              "        vertical-align: top;\n",
              "    }\n",
              "\n",
              "    .dataframe thead th {\n",
              "        text-align: right;\n",
              "    }\n",
              "</style>\n",
              "<table border=\"1\" class=\"dataframe\">\n",
              "  <thead>\n",
              "    <tr style=\"text-align: right;\">\n",
              "      <th></th>\n",
              "      <th>customerID</th>\n",
              "      <th>tenure</th>\n",
              "      <th>PhoneService</th>\n",
              "      <th>Contract</th>\n",
              "      <th>PaperlessBilling</th>\n",
              "      <th>PaymentMethod</th>\n",
              "      <th>MonthlyCharges</th>\n",
              "      <th>TotalCharges</th>\n",
              "      <th>Churn</th>\n",
              "      <th>gender</th>\n",
              "      <th>...</th>\n",
              "      <th>Partner</th>\n",
              "      <th>Dependents</th>\n",
              "      <th>MultipleLines</th>\n",
              "      <th>InternetService</th>\n",
              "      <th>OnlineSecurity</th>\n",
              "      <th>OnlineBackup</th>\n",
              "      <th>DeviceProtection</th>\n",
              "      <th>TechSupport</th>\n",
              "      <th>StreamingTV</th>\n",
              "      <th>StreamingMovies</th>\n",
              "    </tr>\n",
              "  </thead>\n",
              "  <tbody>\n",
              "    <tr>\n",
              "      <th>0</th>\n",
              "      <td>7590-VHVEG</td>\n",
              "      <td>1</td>\n",
              "      <td>No</td>\n",
              "      <td>Month-to-month</td>\n",
              "      <td>Yes</td>\n",
              "      <td>Electronic check</td>\n",
              "      <td>29.85</td>\n",
              "      <td>29.85</td>\n",
              "      <td>0</td>\n",
              "      <td>Female</td>\n",
              "      <td>...</td>\n",
              "      <td>Yes</td>\n",
              "      <td>No</td>\n",
              "      <td>No phone service</td>\n",
              "      <td>DSL</td>\n",
              "      <td>No</td>\n",
              "      <td>Yes</td>\n",
              "      <td>No</td>\n",
              "      <td>No</td>\n",
              "      <td>No</td>\n",
              "      <td>No</td>\n",
              "    </tr>\n",
              "    <tr>\n",
              "      <th>1</th>\n",
              "      <td>5575-GNVDE</td>\n",
              "      <td>34</td>\n",
              "      <td>Yes</td>\n",
              "      <td>One year</td>\n",
              "      <td>No</td>\n",
              "      <td>Mailed check</td>\n",
              "      <td>56.95</td>\n",
              "      <td>1889.50</td>\n",
              "      <td>0</td>\n",
              "      <td>Male</td>\n",
              "      <td>...</td>\n",
              "      <td>No</td>\n",
              "      <td>No</td>\n",
              "      <td>No</td>\n",
              "      <td>DSL</td>\n",
              "      <td>Yes</td>\n",
              "      <td>No</td>\n",
              "      <td>Yes</td>\n",
              "      <td>No</td>\n",
              "      <td>No</td>\n",
              "      <td>No</td>\n",
              "    </tr>\n",
              "    <tr>\n",
              "      <th>2</th>\n",
              "      <td>3668-QPYBK</td>\n",
              "      <td>2</td>\n",
              "      <td>Yes</td>\n",
              "      <td>Month-to-month</td>\n",
              "      <td>Yes</td>\n",
              "      <td>Mailed check</td>\n",
              "      <td>53.85</td>\n",
              "      <td>108.15</td>\n",
              "      <td>1</td>\n",
              "      <td>Male</td>\n",
              "      <td>...</td>\n",
              "      <td>No</td>\n",
              "      <td>No</td>\n",
              "      <td>No</td>\n",
              "      <td>DSL</td>\n",
              "      <td>Yes</td>\n",
              "      <td>Yes</td>\n",
              "      <td>No</td>\n",
              "      <td>No</td>\n",
              "      <td>No</td>\n",
              "      <td>No</td>\n",
              "    </tr>\n",
              "    <tr>\n",
              "      <th>3</th>\n",
              "      <td>7795-CFOCW</td>\n",
              "      <td>45</td>\n",
              "      <td>No</td>\n",
              "      <td>One year</td>\n",
              "      <td>No</td>\n",
              "      <td>Bank transfer (automatic)</td>\n",
              "      <td>42.30</td>\n",
              "      <td>1840.75</td>\n",
              "      <td>0</td>\n",
              "      <td>Male</td>\n",
              "      <td>...</td>\n",
              "      <td>No</td>\n",
              "      <td>No</td>\n",
              "      <td>No phone service</td>\n",
              "      <td>DSL</td>\n",
              "      <td>Yes</td>\n",
              "      <td>No</td>\n",
              "      <td>Yes</td>\n",
              "      <td>Yes</td>\n",
              "      <td>No</td>\n",
              "      <td>No</td>\n",
              "    </tr>\n",
              "    <tr>\n",
              "      <th>4</th>\n",
              "      <td>9237-HQITU</td>\n",
              "      <td>2</td>\n",
              "      <td>Yes</td>\n",
              "      <td>Month-to-month</td>\n",
              "      <td>Yes</td>\n",
              "      <td>Electronic check</td>\n",
              "      <td>70.70</td>\n",
              "      <td>151.65</td>\n",
              "      <td>1</td>\n",
              "      <td>Female</td>\n",
              "      <td>...</td>\n",
              "      <td>No</td>\n",
              "      <td>No</td>\n",
              "      <td>No</td>\n",
              "      <td>Fiber optic</td>\n",
              "      <td>No</td>\n",
              "      <td>No</td>\n",
              "      <td>No</td>\n",
              "      <td>No</td>\n",
              "      <td>No</td>\n",
              "      <td>No</td>\n",
              "    </tr>\n",
              "    <tr>\n",
              "      <th>...</th>\n",
              "      <td>...</td>\n",
              "      <td>...</td>\n",
              "      <td>...</td>\n",
              "      <td>...</td>\n",
              "      <td>...</td>\n",
              "      <td>...</td>\n",
              "      <td>...</td>\n",
              "      <td>...</td>\n",
              "      <td>...</td>\n",
              "      <td>...</td>\n",
              "      <td>...</td>\n",
              "      <td>...</td>\n",
              "      <td>...</td>\n",
              "      <td>...</td>\n",
              "      <td>...</td>\n",
              "      <td>...</td>\n",
              "      <td>...</td>\n",
              "      <td>...</td>\n",
              "      <td>...</td>\n",
              "      <td>...</td>\n",
              "      <td>...</td>\n",
              "    </tr>\n",
              "    <tr>\n",
              "      <th>7038</th>\n",
              "      <td>6840-RESVB</td>\n",
              "      <td>24</td>\n",
              "      <td>Yes</td>\n",
              "      <td>One year</td>\n",
              "      <td>Yes</td>\n",
              "      <td>Mailed check</td>\n",
              "      <td>84.80</td>\n",
              "      <td>1990.50</td>\n",
              "      <td>0</td>\n",
              "      <td>Male</td>\n",
              "      <td>...</td>\n",
              "      <td>Yes</td>\n",
              "      <td>Yes</td>\n",
              "      <td>Yes</td>\n",
              "      <td>DSL</td>\n",
              "      <td>Yes</td>\n",
              "      <td>No</td>\n",
              "      <td>Yes</td>\n",
              "      <td>Yes</td>\n",
              "      <td>Yes</td>\n",
              "      <td>Yes</td>\n",
              "    </tr>\n",
              "    <tr>\n",
              "      <th>7039</th>\n",
              "      <td>2234-XADUH</td>\n",
              "      <td>72</td>\n",
              "      <td>Yes</td>\n",
              "      <td>One year</td>\n",
              "      <td>Yes</td>\n",
              "      <td>Credit card (automatic)</td>\n",
              "      <td>103.20</td>\n",
              "      <td>7362.90</td>\n",
              "      <td>0</td>\n",
              "      <td>Female</td>\n",
              "      <td>...</td>\n",
              "      <td>Yes</td>\n",
              "      <td>Yes</td>\n",
              "      <td>Yes</td>\n",
              "      <td>Fiber optic</td>\n",
              "      <td>No</td>\n",
              "      <td>Yes</td>\n",
              "      <td>Yes</td>\n",
              "      <td>No</td>\n",
              "      <td>Yes</td>\n",
              "      <td>Yes</td>\n",
              "    </tr>\n",
              "    <tr>\n",
              "      <th>7040</th>\n",
              "      <td>4801-JZAZL</td>\n",
              "      <td>11</td>\n",
              "      <td>No</td>\n",
              "      <td>Month-to-month</td>\n",
              "      <td>Yes</td>\n",
              "      <td>Electronic check</td>\n",
              "      <td>29.60</td>\n",
              "      <td>346.45</td>\n",
              "      <td>0</td>\n",
              "      <td>Female</td>\n",
              "      <td>...</td>\n",
              "      <td>Yes</td>\n",
              "      <td>Yes</td>\n",
              "      <td>No phone service</td>\n",
              "      <td>DSL</td>\n",
              "      <td>Yes</td>\n",
              "      <td>No</td>\n",
              "      <td>No</td>\n",
              "      <td>No</td>\n",
              "      <td>No</td>\n",
              "      <td>No</td>\n",
              "    </tr>\n",
              "    <tr>\n",
              "      <th>7041</th>\n",
              "      <td>8361-LTMKD</td>\n",
              "      <td>4</td>\n",
              "      <td>Yes</td>\n",
              "      <td>Month-to-month</td>\n",
              "      <td>Yes</td>\n",
              "      <td>Mailed check</td>\n",
              "      <td>74.40</td>\n",
              "      <td>306.60</td>\n",
              "      <td>1</td>\n",
              "      <td>Male</td>\n",
              "      <td>...</td>\n",
              "      <td>Yes</td>\n",
              "      <td>No</td>\n",
              "      <td>Yes</td>\n",
              "      <td>Fiber optic</td>\n",
              "      <td>No</td>\n",
              "      <td>No</td>\n",
              "      <td>No</td>\n",
              "      <td>No</td>\n",
              "      <td>No</td>\n",
              "      <td>No</td>\n",
              "    </tr>\n",
              "    <tr>\n",
              "      <th>7042</th>\n",
              "      <td>3186-AJIEK</td>\n",
              "      <td>66</td>\n",
              "      <td>Yes</td>\n",
              "      <td>Two year</td>\n",
              "      <td>Yes</td>\n",
              "      <td>Bank transfer (automatic)</td>\n",
              "      <td>105.65</td>\n",
              "      <td>6844.50</td>\n",
              "      <td>0</td>\n",
              "      <td>Male</td>\n",
              "      <td>...</td>\n",
              "      <td>No</td>\n",
              "      <td>No</td>\n",
              "      <td>No</td>\n",
              "      <td>Fiber optic</td>\n",
              "      <td>Yes</td>\n",
              "      <td>No</td>\n",
              "      <td>Yes</td>\n",
              "      <td>Yes</td>\n",
              "      <td>Yes</td>\n",
              "      <td>Yes</td>\n",
              "    </tr>\n",
              "  </tbody>\n",
              "</table>\n",
              "<p>7032 rows × 21 columns</p>\n",
              "</div>\n",
              "      <button class=\"colab-df-convert\" onclick=\"convertToInteractive('df-6193c86d-a4f3-48af-bb53-97de94baf37e')\"\n",
              "              title=\"Convert this dataframe to an interactive table.\"\n",
              "              style=\"display:none;\">\n",
              "        \n",
              "  <svg xmlns=\"http://www.w3.org/2000/svg\" height=\"24px\"viewBox=\"0 0 24 24\"\n",
              "       width=\"24px\">\n",
              "    <path d=\"M0 0h24v24H0V0z\" fill=\"none\"/>\n",
              "    <path d=\"M18.56 5.44l.94 2.06.94-2.06 2.06-.94-2.06-.94-.94-2.06-.94 2.06-2.06.94zm-11 1L8.5 8.5l.94-2.06 2.06-.94-2.06-.94L8.5 2.5l-.94 2.06-2.06.94zm10 10l.94 2.06.94-2.06 2.06-.94-2.06-.94-.94-2.06-.94 2.06-2.06.94z\"/><path d=\"M17.41 7.96l-1.37-1.37c-.4-.4-.92-.59-1.43-.59-.52 0-1.04.2-1.43.59L10.3 9.45l-7.72 7.72c-.78.78-.78 2.05 0 2.83L4 21.41c.39.39.9.59 1.41.59.51 0 1.02-.2 1.41-.59l7.78-7.78 2.81-2.81c.8-.78.8-2.07 0-2.86zM5.41 20L4 18.59l7.72-7.72 1.47 1.35L5.41 20z\"/>\n",
              "  </svg>\n",
              "      </button>\n",
              "      \n",
              "  <style>\n",
              "    .colab-df-container {\n",
              "      display:flex;\n",
              "      flex-wrap:wrap;\n",
              "      gap: 12px;\n",
              "    }\n",
              "\n",
              "    .colab-df-convert {\n",
              "      background-color: #E8F0FE;\n",
              "      border: none;\n",
              "      border-radius: 50%;\n",
              "      cursor: pointer;\n",
              "      display: none;\n",
              "      fill: #1967D2;\n",
              "      height: 32px;\n",
              "      padding: 0 0 0 0;\n",
              "      width: 32px;\n",
              "    }\n",
              "\n",
              "    .colab-df-convert:hover {\n",
              "      background-color: #E2EBFA;\n",
              "      box-shadow: 0px 1px 2px rgba(60, 64, 67, 0.3), 0px 1px 3px 1px rgba(60, 64, 67, 0.15);\n",
              "      fill: #174EA6;\n",
              "    }\n",
              "\n",
              "    [theme=dark] .colab-df-convert {\n",
              "      background-color: #3B4455;\n",
              "      fill: #D2E3FC;\n",
              "    }\n",
              "\n",
              "    [theme=dark] .colab-df-convert:hover {\n",
              "      background-color: #434B5C;\n",
              "      box-shadow: 0px 1px 3px 1px rgba(0, 0, 0, 0.15);\n",
              "      filter: drop-shadow(0px 1px 2px rgba(0, 0, 0, 0.3));\n",
              "      fill: #FFFFFF;\n",
              "    }\n",
              "  </style>\n",
              "\n",
              "      <script>\n",
              "        const buttonEl =\n",
              "          document.querySelector('#df-6193c86d-a4f3-48af-bb53-97de94baf37e button.colab-df-convert');\n",
              "        buttonEl.style.display =\n",
              "          google.colab.kernel.accessAllowed ? 'block' : 'none';\n",
              "\n",
              "        async function convertToInteractive(key) {\n",
              "          const element = document.querySelector('#df-6193c86d-a4f3-48af-bb53-97de94baf37e');\n",
              "          const dataTable =\n",
              "            await google.colab.kernel.invokeFunction('convertToInteractive',\n",
              "                                                     [key], {});\n",
              "          if (!dataTable) return;\n",
              "\n",
              "          const docLinkHtml = 'Like what you see? Visit the ' +\n",
              "            '<a target=\"_blank\" href=https://colab.research.google.com/notebooks/data_table.ipynb>data table notebook</a>'\n",
              "            + ' to learn more about interactive tables.';\n",
              "          element.innerHTML = '';\n",
              "          dataTable['output_type'] = 'display_data';\n",
              "          await google.colab.output.renderOutput(dataTable, element);\n",
              "          const docLink = document.createElement('div');\n",
              "          docLink.innerHTML = docLinkHtml;\n",
              "          element.appendChild(docLink);\n",
              "        }\n",
              "      </script>\n",
              "    </div>\n",
              "  </div>\n",
              "  "
            ]
          },
          "metadata": {},
          "execution_count": 238
        }
      ],
      "source": [
        "data.fillna(data[\"TotalCharges\"].mean())\n"
      ]
    },
    {
      "cell_type": "code",
      "execution_count": null,
      "metadata": {
        "id": "QnET-nVZG8Z1"
      },
      "outputs": [],
      "source": []
    },
    {
      "cell_type": "markdown",
      "metadata": {
        "id": "9k9yDp_-G8sz"
      },
      "source": [
        "# Analysis "
      ]
    },
    {
      "cell_type": "code",
      "execution_count": null,
      "metadata": {
        "colab": {
          "base_uri": "https://localhost:8080/"
        },
        "id": "pVFWVDKq6bTB",
        "outputId": "3d24c3a5-0e21-4a05-83c0-2538c785e871"
      },
      "outputs": [
        {
          "output_type": "stream",
          "name": "stdout",
          "text": [
            "customerID :  ['7590-VHVEG' '5575-GNVDE' '3668-QPYBK' ... '4801-JZAZL' '8361-LTMKD'\n",
            " '3186-AJIEK']\n",
            "tenure :  [ 1 34  2 45  8 22 10 28 62 13 16 58 49 25 69 52 71 21 12 30 47 72 17 27\n",
            "  5 46 11 70 63 43 15 60 18 66  9  3 31 50 64 56  7 42 35 48 29 65 38 68\n",
            " 32 55 37 36 41  6  4 33 67 23 57 61 14 20 53 40 59 24 44 19 54 51 26 39]\n",
            "PhoneService :  ['No' 'Yes']\n",
            "Contract :  ['Month-to-month' 'One year' 'Two year']\n",
            "PaperlessBilling :  ['Yes' 'No']\n",
            "PaymentMethod :  ['Electronic check' 'Mailed check' 'Bank transfer (automatic)'\n",
            " 'Credit card (automatic)']\n",
            "MonthlyCharges :  [29.85 56.95 53.85 ... 63.1  44.2  78.7 ]\n",
            "TotalCharges :  [  29.85 1889.5   108.15 ...  346.45  306.6  6844.5 ]\n",
            "Churn :  [0 1]\n",
            "gender :  ['Female' 'Male']\n",
            "SeniorCitizen :  [0 1]\n",
            "Partner :  ['Yes' 'No']\n",
            "Dependents :  ['No' 'Yes']\n",
            "MultipleLines :  ['No phone service' 'No' 'Yes']\n",
            "InternetService :  ['DSL' 'Fiber optic' 'No']\n",
            "OnlineSecurity :  ['No' 'Yes' 'No internet service']\n",
            "OnlineBackup :  ['Yes' 'No' 'No internet service']\n",
            "DeviceProtection :  ['No' 'Yes' 'No internet service']\n",
            "TechSupport :  ['No' 'Yes' 'No internet service']\n",
            "StreamingTV :  ['No' 'Yes' 'No internet service']\n",
            "StreamingMovies :  ['No' 'Yes' 'No internet service']\n"
          ]
        }
      ],
      "source": [
        "for i in data.columns:\n",
        "    print(i, \": \", data[i].unique())"
      ]
    },
    {
      "cell_type": "code",
      "execution_count": null,
      "metadata": {
        "colab": {
          "base_uri": "https://localhost:8080/"
        },
        "id": "_6r-qJUg7w8f",
        "outputId": "bbad6b08-1fb1-4366-c749-0a6383aa2af9"
      },
      "outputs": [
        {
          "output_type": "execute_result",
          "data": {
            "text/plain": [
              "Index(['customerID', 'tenure', 'PhoneService', 'Contract', 'PaperlessBilling',\n",
              "       'PaymentMethod', 'MonthlyCharges', 'TotalCharges', 'Churn', 'gender',\n",
              "       'SeniorCitizen', 'Partner', 'Dependents', 'MultipleLines',\n",
              "       'InternetService', 'OnlineSecurity', 'OnlineBackup', 'DeviceProtection',\n",
              "       'TechSupport', 'StreamingTV', 'StreamingMovies'],\n",
              "      dtype='object')"
            ]
          },
          "metadata": {},
          "execution_count": 240
        }
      ],
      "source": [
        "data.columns"
      ]
    },
    {
      "cell_type": "code",
      "execution_count": null,
      "metadata": {
        "colab": {
          "base_uri": "https://localhost:8080/",
          "height": 1000
        },
        "id": "nFnUPH5V68mn",
        "outputId": "8b0e9e35-94cc-48e1-bb35-1d3302068381"
      },
      "outputs": [
        {
          "output_type": "display_data",
          "data": {
            "text/plain": [
              "<Figure size 1440x1800 with 8 Axes>"
            ],
            "image/png": "[encoded data removed]"
          },
          "metadata": {}
        }
      ],
      "source": [
        "# let's see how data is distributed for every column\n",
        "x=[ 'MultipleLines',\n",
        "       'InternetService', 'OnlineSecurity', 'OnlineBackup', 'DeviceProtection',\n",
        "       'TechSupport', 'StreamingTV', 'StreamingMovies']\n",
        "plt.figure(figsize=(20,25), facecolor='white')\n",
        "plotnumber = 1\n",
        "\n",
        "for column in x:\n",
        "    if plotnumber<=9 :     # as there are 9 columns in the data\n",
        "        ax = plt.subplot(3,3,plotnumber)\n",
        "        sns.countplot(data[column])\n",
        "        plt.xlabel(column,fontsize=20)\n",
        "        #plt.ylabel('Salary',fontsize=20)\n",
        "    plotnumber+=1\n",
        "plt.show()"
      ]
    },
    {
      "cell_type": "code",
      "execution_count": null,
      "metadata": {
        "colab": {
          "base_uri": "https://localhost:8080/",
          "height": 471
        },
        "id": "67qvZ27Z8aP8",
        "outputId": "07af32f0-b014-4f4b-e530-78ba113032de"
      },
      "outputs": [
        {
          "output_type": "display_data",
          "data": {
            "text/plain": [
              "<Figure size 1440x1800 with 3 Axes>"
            ],
            "image/png": "[encoded data removed]"
          },
          "metadata": {}
        }
      ],
      "source": [
        "y=['tenure','MonthlyCharges','TotalCharges']\n",
        "plt.figure(figsize=(20,25), facecolor='white')\n",
        "plotnumber = 1\n",
        "\n",
        "for column in y:\n",
        "    if plotnumber<=9 :     # as there are 9 columns in the data\n",
        "        ax = plt.subplot(3,3,plotnumber)\n",
        "        sns.distplot(data[column])\n",
        "        plt.xlabel(column,fontsize=20)\n",
        "        #plt.ylabel('Salary',fontsize=20)\n",
        "    plotnumber+=1\n",
        "plt.show()"
      ]
    },
    {
      "cell_type": "code",
      "execution_count": null,
      "metadata": {
        "colab": {
          "base_uri": "https://localhost:8080/",
          "height": 1000
        },
        "id": "VNxtq_i99b50",
        "outputId": "df53716a-620e-4d56-fb1c-7cf2ef2379ce"
      },
      "outputs": [
        {
          "output_type": "display_data",
          "data": {
            "text/plain": [
              "<Figure size 1440x1800 with 9 Axes>"
            ],
            "image/png": "[encoded data removed]"
          },
          "metadata": {}
        }
      ],
      "source": [
        "k=['PhoneService', 'Contract', 'PaperlessBilling',\n",
        "       'PaymentMethod', 'Churn', 'gender',\n",
        "       'SeniorCitizen', 'Partner', 'Dependents']\n",
        "plt.figure(figsize=(20,25), facecolor='white')\n",
        "plotnumber = 1\n",
        "for column in k:\n",
        "    if plotnumber<=12 :     # as there are 9 columns in the data\n",
        "        ax = plt.subplot(4,3,plotnumber)\n",
        "        sns.countplot(data[column])\n",
        "        plt.xlabel(column,fontsize=20)\n",
        "        #plt.ylabel('Salary',fontsize=20)\n",
        "    plotnumber+=1\n",
        "plt.show()"
      ]
    },
    {
      "cell_type": "code",
      "execution_count": null,
      "metadata": {
        "id": "CPK0-m0NJXDv"
      },
      "outputs": [],
      "source": [
        "##bivariate analysis"
      ]
    },
    {
      "cell_type": "code",
      "execution_count": null,
      "metadata": {
        "colab": {
          "base_uri": "https://localhost:8080/",
          "height": 967
        },
        "id": "utpc_sjkI2Xm",
        "outputId": "6e7f85cd-38ca-437f-dc20-2fd5f75dafe4"
      },
      "outputs": [
        {
          "output_type": "display_data",
          "data": {
            "text/plain": [
              "<Figure size 1440x1800 with 8 Axes>"
            ],
            "image/png": "[encoded data removed]"
          },
          "metadata": {}
        }
      ],
      "source": [
        " \n",
        "x=[ 'MultipleLines',\n",
        "       'InternetService', 'OnlineSecurity', 'OnlineBackup', 'DeviceProtection',\n",
        "       'TechSupport', 'StreamingTV', 'StreamingMovies']\n",
        "plt.figure(figsize=(20,25), facecolor='white')\n",
        "plotnumber = 1\n",
        "\n",
        "for column in x:\n",
        "    if plotnumber<=12 :     # as there are 9 columns in the data\n",
        "        ax = plt.subplot(6,2,plotnumber)\n",
        "        sns.histplot(data=data, x=i, hue='Churn', multiple=\"dodge\", shrink=0.9)\n",
        "        plt.xlabel(column,fontsize=20)\n",
        "        #plt.ylabel('Salary',fontsize=20)\n",
        "    plotnumber+=1\n",
        "plt.show()"
      ]
    },
    {
      "cell_type": "code",
      "source": [],
      "metadata": {
        "id": "WQKM59kl7wPN"
      },
      "execution_count": null,
      "outputs": []
    },
    {
      "cell_type": "markdown",
      "source": [],
      "metadata": {
        "id": "0jwKoTmvptdZ"
      }
    },
    {
      "cell_type": "code",
      "source": [
        "#scatter plot\n",
        "plt.figure(figsize = (20,30) , facecolor = 'white')\n",
        "plotnumber = 1\n",
        "for column in y :\n",
        "    if plotnumber <= 15 :\n",
        "        ax = plt.subplot(5,3,plotnumber)\n",
        "        plt.scatter(data[column],data['tenure']  ,c='red')\n",
        "        plt.xlabel(column , fontsize = 20)\n",
        "        plt.ylabel('tenure' , fontsize = 20)\n",
        "    plotnumber += 1\n",
        "plt.tight_layout()"
      ],
      "metadata": {
        "colab": {
          "base_uri": "https://localhost:8080/",
          "height": 383
        },
        "id": "64CJN5mw4gYs",
        "outputId": "74e02897-cab8-4eb7-c09c-78195429ef91"
      },
      "execution_count": null,
      "outputs": [
        {
          "output_type": "display_data",
          "data": {
            "text/plain": [
              "<Figure size 1440x2160 with 3 Axes>"
            ],
            "image/png": "[encoded data removed]"
          },
          "metadata": {}
        }
      ]
    },
    {
      "cell_type": "code",
      "source": [],
      "metadata": {
        "id": "NYqe1KDA5UIX"
      },
      "execution_count": null,
      "outputs": []
    },
    {
      "cell_type": "code",
      "execution_count": null,
      "metadata": {
        "id": "nVkw0PZqXZxe"
      },
      "outputs": [],
      "source": [
        "# from autoviz.AutoViz_Class import AutoViz_Class\n",
        "# AV=AutoViz_Class()\n",
        "# x=AV.AutoViz(\n",
        "#     file_name\n",
        "#               )"
      ]
    },
    {
      "cell_type": "code",
      "execution_count": null,
      "metadata": {
        "id": "kQmTgrp3QYLX"
      },
      "outputs": [],
      "source": []
    },
    {
      "cell_type": "markdown",
      "metadata": {
        "id": "n8ThW6EMQaPN"
      },
      "source": [
        "# **Feature Engineering**"
      ]
    },
    {
      "cell_type": "code",
      "execution_count": null,
      "metadata": {
        "id": "eWt3HfTggXXl"
      },
      "outputs": [],
      "source": [
        "data['TotalCharges'] = pd.to_numeric(data.TotalCharges, errors='coerce')\n",
        " "
      ]
    },
    {
      "cell_type": "code",
      "execution_count": null,
      "metadata": {
        "colab": {
          "base_uri": "https://localhost:8080/"
        },
        "id": "NEkGbMHbgXXm",
        "outputId": "2423e4cc-9191-4246-a253-5f04776139cd"
      },
      "outputs": [
        {
          "output_type": "execute_result",
          "data": {
            "text/plain": [
              "array([0, 1])"
            ]
          },
          "metadata": {},
          "execution_count": 249
        }
      ],
      "source": [
        "data.SeniorCitizen.unique()"
      ]
    },
    {
      "cell_type": "code",
      "execution_count": null,
      "metadata": {
        "id": "6mgyu-uWgXXn"
      },
      "outputs": [],
      "source": [
        "data.SeniorCitizen = data.SeniorCitizen.map({0: \"No\", 1: \"Yes\"})"
      ]
    },
    {
      "cell_type": "code",
      "execution_count": null,
      "metadata": {
        "id": "rrGBtHO3gXXo"
      },
      "outputs": [],
      "source": [
        " "
      ]
    },
    {
      "cell_type": "code",
      "execution_count": null,
      "metadata": {
        "id": "Wc7t9xbt7DyH"
      },
      "outputs": [],
      "source": [
        "data1=data.copy()"
      ]
    },
    {
      "cell_type": "code",
      "execution_count": null,
      "metadata": {
        "id": "YRxBSqm_7hUM"
      },
      "outputs": [],
      "source": [
        "data1.Churn=data1.Churn.map({'Yes':1,'No':0})"
      ]
    },
    {
      "cell_type": "code",
      "execution_count": null,
      "metadata": {
        "id": "1cFT5mL-63UJ"
      },
      "outputs": [],
      "source": [
        "data1.to_csv('preprocessed_customer_churn4.csv',index=None)"
      ]
    },
    {
      "cell_type": "code",
      "execution_count": null,
      "metadata": {
        "id": "wwtHoEeO7E5i"
      },
      "outputs": [],
      "source": [
        "data = data.drop([\"customerID\"], axis = 1)\n"
      ]
    },
    {
      "cell_type": "markdown",
      "metadata": {
        "id": "FcCryWPogXXp"
      },
      "source": []
    },
    {
      "cell_type": "code",
      "execution_count": null,
      "metadata": {
        "id": "1sCeBdAhTZt-"
      },
      "outputs": [],
      "source": [
        "# !pip install autoviz"
      ]
    },
    {
      "cell_type": "code",
      "source": [],
      "metadata": {
        "id": "Rw73PLBfoGYZ"
      },
      "execution_count": null,
      "outputs": []
    },
    {
      "cell_type": "markdown",
      "metadata": {
        "id": "9tbcKYa3gXX3"
      },
      "source": [
        "New customers are more likely to churn"
      ]
    },
    {
      "cell_type": "markdown",
      "source": [
        "##label encoding"
      ],
      "metadata": {
        "id": "asCK5C1doHp9"
      }
    },
    {
      "cell_type": "code",
      "execution_count": null,
      "metadata": {
        "id": "FWLpl7aRlwMz"
      },
      "outputs": [],
      "source": [
        "from sklearn.preprocessing import LabelEncoder\n"
      ]
    },
    {
      "cell_type": "code",
      "execution_count": null,
      "metadata": {
        "id": "NGa28Ff9gXX6"
      },
      "outputs": [],
      "source": [
        "obj=data.select_dtypes(include='object').columns\n",
        "data.loc[:,obj]=data.loc[:,obj].apply(LabelEncoder().fit_transform)\n",
        "\n",
        "\n"
      ]
    },
    {
      "cell_type": "code",
      "execution_count": null,
      "metadata": {
        "id": "rojrdgjbYfmv"
      },
      "outputs": [],
      "source": [
        "z1=data.to_csv('AVV1.csv')\n",
        "file_name='/content/AVV1.csv'"
      ]
    },
    {
      "cell_type": "code",
      "execution_count": null,
      "metadata": {
        "id": "mzPHr3Cuq9GD"
      },
      "outputs": [],
      "source": [
        "# !pip install autoviz"
      ]
    },
    {
      "cell_type": "code",
      "source": [],
      "metadata": {
        "id": "Vi9YmbPAtzCt"
      },
      "execution_count": null,
      "outputs": []
    },
    {
      "cell_type": "markdown",
      "source": [
        "## quick view for transformation \n",
        "here if i select one variable which is correlated with churn and not much normally distribution\n",
        "and if i do appropriate transformation then it becomes high correlated than before\n"
      ],
      "metadata": {
        "id": "SQc3qD-BoNi6"
      }
    },
    {
      "cell_type": "code",
      "execution_count": null,
      "metadata": {
        "id": "S6vN-wOhtoYN"
      },
      "outputs": [],
      "source": [
        " corr=data.corr()['Churn'].sort_values(ascending=False)\n"
      ]
    },
    {
      "cell_type": "code",
      "execution_count": null,
      "metadata": {
        "colab": {
          "base_uri": "https://localhost:8080/"
        },
        "id": "GDFC575ezqvb",
        "outputId": "af0a22f1-cfce-40ea-d81f-404db290a621"
      },
      "outputs": [
        {
          "output_type": "execute_result",
          "data": {
            "text/plain": [
              "Churn               1.000000\n",
              "MonthlyCharges      0.192858\n",
              "PaperlessBilling    0.191454\n",
              "SeniorCitizen       0.150541\n",
              "PaymentMethod       0.107852\n",
              "MultipleLines       0.038043\n",
              "PhoneService        0.011691\n",
              "gender             -0.008545\n",
              "StreamingTV        -0.036303\n",
              "StreamingMovies    -0.038802\n",
              "InternetService    -0.047097\n",
              "Partner            -0.149982\n",
              "Dependents         -0.163128\n",
              "DeviceProtection   -0.177883\n",
              "OnlineBackup       -0.195290\n",
              "TotalCharges       -0.199484\n",
              "TechSupport        -0.282232\n",
              "OnlineSecurity     -0.289050\n",
              "tenure             -0.354049\n",
              "Contract           -0.396150\n",
              "Name: Churn, dtype: float64"
            ]
          },
          "metadata": {},
          "execution_count": 261
        }
      ],
      "source": [
        "corr"
      ]
    },
    {
      "cell_type": "markdown",
      "source": [
        "#Feature transformation"
      ],
      "metadata": {
        "id": "nqETp_Jfw26k"
      }
    },
    {
      "cell_type": "markdown",
      "source": [
        "null hypothesis-data is normal\n",
        "\n",
        "Alternative Hypothesis-data is not normal"
      ],
      "metadata": {
        "id": "rFvZVx_0xTF1"
      }
    },
    {
      "cell_type": "code",
      "source": [
        "from scipy import stats\n"
      ],
      "metadata": {
        "id": "mFR7Z7R5QpOr"
      },
      "execution_count": null,
      "outputs": []
    },
    {
      "cell_type": "code",
      "source": [
        "_,l=stats.boxcox(data['tenure'])\n",
        "#lambda value before Transformation\n",
        "print('lambda  :',l)"
      ],
      "metadata": {
        "colab": {
          "base_uri": "https://localhost:8080/"
        },
        "id": "vbtlNeOWRdu_",
        "outputId": "3e5d66b1-0b27-42a2-8150-2c4490ddfcb4"
      },
      "execution_count": null,
      "outputs": [
        {
          "output_type": "stream",
          "name": "stdout",
          "text": [
            "lambda  : 0.45712718949830217\n"
          ]
        }
      ]
    },
    {
      "cell_type": "code",
      "source": [
        " sns.distplot(data['tenure'])"
      ],
      "metadata": {
        "colab": {
          "base_uri": "https://localhost:8080/",
          "height": 297
        },
        "id": "vGg7DiuVRuHp",
        "outputId": "860cbca0-f7f5-43a8-f0e9-488009a7962d"
      },
      "execution_count": null,
      "outputs": [
        {
          "output_type": "execute_result",
          "data": {
            "text/plain": [
              "<matplotlib.axes._subplots.AxesSubplot at 0x7f5aaf4ca650>"
            ]
          },
          "metadata": {},
          "execution_count": 264
        },
        {
          "output_type": "display_data",
          "data": {
            "text/plain": [
              "<Figure size 432x288 with 1 Axes>"
            ],
            "image/png": "[encoded data removed]"
          },
          "metadata": {
            "needs_background": "light"
          }
        }
      ]
    },
    {
      "cell_type": "code",
      "source": [
        " data['tenure']=stats.boxcox(data['tenure'], lmbda=0.45, alpha=None, optimizer=None)"
      ],
      "metadata": {
        "id": "OB6UpSWKyAVu"
      },
      "execution_count": null,
      "outputs": []
    },
    {
      "cell_type": "code",
      "source": [
        " sns.distplot(data['tenure'])"
      ],
      "metadata": {
        "colab": {
          "base_uri": "https://localhost:8080/",
          "height": 297
        },
        "id": "ePyTLh58vLOf",
        "outputId": "b42c80fd-a7a8-450f-91b0-accd74c9db7b"
      },
      "execution_count": null,
      "outputs": [
        {
          "output_type": "execute_result",
          "data": {
            "text/plain": [
              "<matplotlib.axes._subplots.AxesSubplot at 0x7f5aac69f6d0>"
            ]
          },
          "metadata": {},
          "execution_count": 266
        },
        {
          "output_type": "display_data",
          "data": {
            "text/plain": [
              "<Figure size 432x288 with 1 Axes>"
            ],
            "image/png": "[encoded data removed]"
          },
          "metadata": {
            "needs_background": "light"
          }
        }
      ]
    },
    {
      "cell_type": "code",
      "source": [
        " "
      ],
      "metadata": {
        "id": "-hleL5pzx8Eq"
      },
      "execution_count": null,
      "outputs": []
    },
    {
      "cell_type": "code",
      "source": [
        " "
      ],
      "metadata": {
        "id": "VoRA2fjAvLTV"
      },
      "execution_count": null,
      "outputs": []
    },
    {
      "cell_type": "code",
      "source": [],
      "metadata": {
        "id": "_C2-eDKVvLV_"
      },
      "execution_count": null,
      "outputs": []
    },
    {
      "cell_type": "code",
      "source": [],
      "metadata": {
        "id": "KAipRwWuvLYw"
      },
      "execution_count": null,
      "outputs": []
    },
    {
      "cell_type": "code",
      "source": [],
      "metadata": {
        "id": "90t5B0aq2Po_"
      },
      "execution_count": null,
      "outputs": []
    },
    {
      "cell_type": "markdown",
      "source": [
        "![image.png](data:image/png;base64,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)"
      ],
      "metadata": {
        "id": "QbCCGEVj2RXf"
      }
    },
    {
      "cell_type": "markdown",
      "source": [
        "#Feature selection"
      ],
      "metadata": {
        "id": "1ijNjgsaw-Q8"
      }
    },
    {
      "cell_type": "markdown",
      "source": [],
      "metadata": {
        "id": "Aq0An79BOUHd"
      }
    },
    {
      "cell_type": "code",
      "source": [
        "p=data.corr()['Churn'].sort_values(ascending=False)"
      ],
      "metadata": {
        "id": "kPWWXnxb2jCH"
      },
      "execution_count": null,
      "outputs": []
    },
    {
      "cell_type": "code",
      "source": [
        "p"
      ],
      "metadata": {
        "colab": {
          "base_uri": "https://localhost:8080/"
        },
        "id": "Gx64yq9E2m7R",
        "outputId": "6dd0028c-b8eb-4739-c3da-53ca0e12ff84"
      },
      "execution_count": null,
      "outputs": [
        {
          "output_type": "execute_result",
          "data": {
            "text/plain": [
              "Churn               1.000000\n",
              "MonthlyCharges      0.192858\n",
              "PaperlessBilling    0.191454\n",
              "SeniorCitizen       0.150541\n",
              "PaymentMethod       0.107852\n",
              "MultipleLines       0.038043\n",
              "PhoneService        0.011691\n",
              "gender             -0.008545\n",
              "StreamingTV        -0.036303\n",
              "StreamingMovies    -0.038802\n",
              "InternetService    -0.047097\n",
              "Partner            -0.149982\n",
              "Dependents         -0.163128\n",
              "DeviceProtection   -0.177883\n",
              "OnlineBackup       -0.195290\n",
              "TotalCharges       -0.199484\n",
              "TechSupport        -0.282232\n",
              "OnlineSecurity     -0.289050\n",
              "tenure             -0.374368\n",
              "Contract           -0.396150\n",
              "Name: Churn, dtype: float64"
            ]
          },
          "metadata": {},
          "execution_count": 268
        }
      ]
    },
    {
      "cell_type": "code",
      "execution_count": null,
      "metadata": {
        "id": "S5OKOsNvvu9Z"
      },
      "outputs": [],
      "source": [
        "t=pd.DataFrame(p)\n",
        "t.Churn=t.Churn.apply(lambda x:abs(x))\n",
        "t.Churn=t.Churn.sort_values(ascending=False)"
      ]
    },
    {
      "cell_type": "code",
      "execution_count": null,
      "metadata": {
        "id": "g_85Ln_-w3V6"
      },
      "outputs": [],
      "source": [
        "t=t.sort_values(by='Churn',ascending=False)"
      ]
    },
    {
      "cell_type": "code",
      "execution_count": null,
      "metadata": {
        "id": "BQ7fJqImxIf8"
      },
      "outputs": [],
      "source": [
        "\n",
        "data=data[list(t.Churn.index[:11])]"
      ]
    },
    {
      "cell_type": "code",
      "execution_count": null,
      "metadata": {
        "colab": {
          "base_uri": "https://localhost:8080/"
        },
        "id": "gbwUvIInzWFA",
        "outputId": "33dc8aa8-2803-4465-8fa0-6d4f4cc4496e"
      },
      "outputs": [
        {
          "output_type": "execute_result",
          "data": {
            "text/plain": [
              "['Churn',\n",
              " 'Contract',\n",
              " 'tenure',\n",
              " 'OnlineSecurity',\n",
              " 'TechSupport',\n",
              " 'TotalCharges',\n",
              " 'OnlineBackup',\n",
              " 'MonthlyCharges',\n",
              " 'PaperlessBilling',\n",
              " 'DeviceProtection',\n",
              " 'Dependents']"
            ]
          },
          "metadata": {},
          "execution_count": 272
        }
      ],
      "source": [
        "list(t.Churn.index[:11])"
      ]
    },
    {
      "cell_type": "code",
      "execution_count": null,
      "metadata": {
        "colab": {
          "base_uri": "https://localhost:8080/"
        },
        "id": "lON5c80dyXAi",
        "outputId": "1e20d4a8-8e65-49ca-ece9-a9e1c1896eb2"
      },
      "outputs": [
        {
          "output_type": "execute_result",
          "data": {
            "text/plain": [
              "Index(['Churn', 'Contract', 'tenure', 'OnlineSecurity', 'TechSupport',\n",
              "       'TotalCharges', 'OnlineBackup', 'MonthlyCharges', 'PaperlessBilling',\n",
              "       'DeviceProtection', 'Dependents'],\n",
              "      dtype='object')"
            ]
          },
          "metadata": {},
          "execution_count": 273
        }
      ],
      "source": [
        "data.columns"
      ]
    },
    {
      "cell_type": "code",
      "source": [
        "data.info()"
      ],
      "metadata": {
        "colab": {
          "base_uri": "https://localhost:8080/"
        },
        "id": "VqrH4Hm_9vEz",
        "outputId": "19b3a80b-5c50-4c10-8bba-eb8a012b2fe1"
      },
      "execution_count": null,
      "outputs": [
        {
          "output_type": "stream",
          "name": "stdout",
          "text": [
            "<class 'pandas.core.frame.DataFrame'>\n",
            "Int64Index: 7032 entries, 0 to 7042\n",
            "Data columns (total 11 columns):\n",
            " #   Column            Non-Null Count  Dtype  \n",
            "---  ------            --------------  -----  \n",
            " 0   Churn             7032 non-null   int64  \n",
            " 1   Contract          7032 non-null   int64  \n",
            " 2   tenure            7032 non-null   float64\n",
            " 3   OnlineSecurity    7032 non-null   int64  \n",
            " 4   TechSupport       7032 non-null   int64  \n",
            " 5   TotalCharges      7032 non-null   float64\n",
            " 6   OnlineBackup      7032 non-null   int64  \n",
            " 7   MonthlyCharges    7032 non-null   float64\n",
            " 8   PaperlessBilling  7032 non-null   int64  \n",
            " 9   DeviceProtection  7032 non-null   int64  \n",
            " 10  Dependents        7032 non-null   int64  \n",
            "dtypes: float64(3), int64(8)\n",
            "memory usage: 917.3 KB\n"
          ]
        }
      ]
    },
    {
      "cell_type": "code",
      "source": [
        "vals=data.corr().index\n",
        "vals2=list(vals)\n",
        "combin=[]\n",
        "for i in vals2[1:-1]:\n",
        "    for j in vals2[1:-1]:\n",
        "        if j != i and abs(data.corr()[i][j]) > 0.6 and data.corr()[i][j] not in combin:\n",
        "            print(\"Correlation between \" + i + \" and \" +j + \": \"+  str(data.corr()[i][j]))\n",
        "            combin.append(data.corr()[i][j]) #Avoid repeating combinations"
      ],
      "metadata": {
        "colab": {
          "base_uri": "https://localhost:8080/"
        },
        "id": "u56Q0BnC9vly",
        "outputId": "5f56a67f-945c-450c-a415-d974209e8982"
      },
      "execution_count": null,
      "outputs": [
        {
          "output_type": "stream",
          "name": "stdout",
          "text": [
            "Correlation between Contract and tenure: 0.6417166239908735\n",
            "Correlation between tenure and TotalCharges: 0.79114720671579\n",
            "Correlation between TotalCharges and MonthlyCharges: 0.6510648032262019\n"
          ]
        }
      ]
    },
    {
      "cell_type": "code",
      "source": [
        "combin\n"
      ],
      "metadata": {
        "colab": {
          "base_uri": "https://localhost:8080/"
        },
        "id": "uekKykyX-Wn3",
        "outputId": "71179050-daec-40a0-e320-4f9eb79fee6b"
      },
      "execution_count": null,
      "outputs": [
        {
          "output_type": "execute_result",
          "data": {
            "text/plain": [
              "[0.6417166239908735, 0.79114720671579, 0.6510648032262019]"
            ]
          },
          "metadata": {},
          "execution_count": 276
        }
      ]
    },
    {
      "cell_type": "code",
      "execution_count": null,
      "metadata": {
        "colab": {
          "base_uri": "https://localhost:8080/"
        },
        "id": "BGjkhdGOyLAL",
        "outputId": "617d3c64-8edd-43a9-efae-9e7e9fb36e95"
      },
      "outputs": [
        {
          "output_type": "execute_result",
          "data": {
            "text/plain": [
              "(7032, 11)"
            ]
          },
          "metadata": {},
          "execution_count": 277
        }
      ],
      "source": [
        "data.shape"
      ]
    },
    {
      "cell_type": "code",
      "source": [
        "t\n"
      ],
      "metadata": {
        "colab": {
          "base_uri": "https://localhost:8080/",
          "height": 676
        },
        "id": "rk8rpBdN_Eui",
        "outputId": "f85d5338-25ab-47fd-a38f-3aa9e62a4a85"
      },
      "execution_count": null,
      "outputs": [
        {
          "output_type": "execute_result",
          "data": {
            "text/plain": [
              "                     Churn\n",
              "Churn             1.000000\n",
              "Contract          0.396150\n",
              "tenure            0.374368\n",
              "OnlineSecurity    0.289050\n",
              "TechSupport       0.282232\n",
              "TotalCharges      0.199484\n",
              "OnlineBackup      0.195290\n",
              "MonthlyCharges    0.192858\n",
              "PaperlessBilling  0.191454\n",
              "DeviceProtection  0.177883\n",
              "Dependents        0.163128\n",
              "SeniorCitizen     0.150541\n",
              "Partner           0.149982\n",
              "PaymentMethod     0.107852\n",
              "InternetService   0.047097\n",
              "StreamingMovies   0.038802\n",
              "MultipleLines     0.038043\n",
              "StreamingTV       0.036303\n",
              "PhoneService      0.011691\n",
              "gender            0.008545"
            ],
            "text/html": [
              "\n",
              "  <div id=\"df-f03f162f-5a82-41b2-a7e9-87184d14a9a2\">\n",
              "    <div class=\"colab-df-container\">\n",
              "      <div>\n",
              "<style scoped>\n",
              "    .dataframe tbody tr th:only-of-type {\n",
              "        vertical-align: middle;\n",
              "    }\n",
              "\n",
              "    .dataframe tbody tr th {\n",
              "        vertical-align: top;\n",
              "    }\n",
              "\n",
              "    .dataframe thead th {\n",
              "        text-align: right;\n",
              "    }\n",
              "</style>\n",
              "<table border=\"1\" class=\"dataframe\">\n",
              "  <thead>\n",
              "    <tr style=\"text-align: right;\">\n",
              "      <th></th>\n",
              "      <th>Churn</th>\n",
              "    </tr>\n",
              "  </thead>\n",
              "  <tbody>\n",
              "    <tr>\n",
              "      <th>Churn</th>\n",
              "      <td>1.000000</td>\n",
              "    </tr>\n",
              "    <tr>\n",
              "      <th>Contract</th>\n",
              "      <td>0.396150</td>\n",
              "    </tr>\n",
              "    <tr>\n",
              "      <th>tenure</th>\n",
              "      <td>0.374368</td>\n",
              "    </tr>\n",
              "    <tr>\n",
              "      <th>OnlineSecurity</th>\n",
              "      <td>0.289050</td>\n",
              "    </tr>\n",
              "    <tr>\n",
              "      <th>TechSupport</th>\n",
              "      <td>0.282232</td>\n",
              "    </tr>\n",
              "    <tr>\n",
              "      <th>TotalCharges</th>\n",
              "      <td>0.199484</td>\n",
              "    </tr>\n",
              "    <tr>\n",
              "      <th>OnlineBackup</th>\n",
              "      <td>0.195290</td>\n",
              "    </tr>\n",
              "    <tr>\n",
              "      <th>MonthlyCharges</th>\n",
              "      <td>0.192858</td>\n",
              "    </tr>\n",
              "    <tr>\n",
              "      <th>PaperlessBilling</th>\n",
              "      <td>0.191454</td>\n",
              "    </tr>\n",
              "    <tr>\n",
              "      <th>DeviceProtection</th>\n",
              "      <td>0.177883</td>\n",
              "    </tr>\n",
              "    <tr>\n",
              "      <th>Dependents</th>\n",
              "      <td>0.163128</td>\n",
              "    </tr>\n",
              "    <tr>\n",
              "      <th>SeniorCitizen</th>\n",
              "      <td>0.150541</td>\n",
              "    </tr>\n",
              "    <tr>\n",
              "      <th>Partner</th>\n",
              "      <td>0.149982</td>\n",
              "    </tr>\n",
              "    <tr>\n",
              "      <th>PaymentMethod</th>\n",
              "      <td>0.107852</td>\n",
              "    </tr>\n",
              "    <tr>\n",
              "      <th>InternetService</th>\n",
              "      <td>0.047097</td>\n",
              "    </tr>\n",
              "    <tr>\n",
              "      <th>StreamingMovies</th>\n",
              "      <td>0.038802</td>\n",
              "    </tr>\n",
              "    <tr>\n",
              "      <th>MultipleLines</th>\n",
              "      <td>0.038043</td>\n",
              "    </tr>\n",
              "    <tr>\n",
              "      <th>StreamingTV</th>\n",
              "      <td>0.036303</td>\n",
              "    </tr>\n",
              "    <tr>\n",
              "      <th>PhoneService</th>\n",
              "      <td>0.011691</td>\n",
              "    </tr>\n",
              "    <tr>\n",
              "      <th>gender</th>\n",
              "      <td>0.008545</td>\n",
              "    </tr>\n",
              "  </tbody>\n",
              "</table>\n",
              "</div>\n",
              "      <button class=\"colab-df-convert\" onclick=\"convertToInteractive('df-f03f162f-5a82-41b2-a7e9-87184d14a9a2')\"\n",
              "              title=\"Convert this dataframe to an interactive table.\"\n",
              "              style=\"display:none;\">\n",
              "        \n",
              "  <svg xmlns=\"http://www.w3.org/2000/svg\" height=\"24px\"viewBox=\"0 0 24 24\"\n",
              "       width=\"24px\">\n",
              "    <path d=\"M0 0h24v24H0V0z\" fill=\"none\"/>\n",
              "    <path d=\"M18.56 5.44l.94 2.06.94-2.06 2.06-.94-2.06-.94-.94-2.06-.94 2.06-2.06.94zm-11 1L8.5 8.5l.94-2.06 2.06-.94-2.06-.94L8.5 2.5l-.94 2.06-2.06.94zm10 10l.94 2.06.94-2.06 2.06-.94-2.06-.94-.94-2.06-.94 2.06-2.06.94z\"/><path d=\"M17.41 7.96l-1.37-1.37c-.4-.4-.92-.59-1.43-.59-.52 0-1.04.2-1.43.59L10.3 9.45l-7.72 7.72c-.78.78-.78 2.05 0 2.83L4 21.41c.39.39.9.59 1.41.59.51 0 1.02-.2 1.41-.59l7.78-7.78 2.81-2.81c.8-.78.8-2.07 0-2.86zM5.41 20L4 18.59l7.72-7.72 1.47 1.35L5.41 20z\"/>\n",
              "  </svg>\n",
              "      </button>\n",
              "      \n",
              "  <style>\n",
              "    .colab-df-container {\n",
              "      display:flex;\n",
              "      flex-wrap:wrap;\n",
              "      gap: 12px;\n",
              "    }\n",
              "\n",
              "    .colab-df-convert {\n",
              "      background-color: #E8F0FE;\n",
              "      border: none;\n",
              "      border-radius: 50%;\n",
              "      cursor: pointer;\n",
              "      display: none;\n",
              "      fill: #1967D2;\n",
              "      height: 32px;\n",
              "      padding: 0 0 0 0;\n",
              "      width: 32px;\n",
              "    }\n",
              "\n",
              "    .colab-df-convert:hover {\n",
              "      background-color: #E2EBFA;\n",
              "      box-shadow: 0px 1px 2px rgba(60, 64, 67, 0.3), 0px 1px 3px 1px rgba(60, 64, 67, 0.15);\n",
              "      fill: #174EA6;\n",
              "    }\n",
              "\n",
              "    [theme=dark] .colab-df-convert {\n",
              "      background-color: #3B4455;\n",
              "      fill: #D2E3FC;\n",
              "    }\n",
              "\n",
              "    [theme=dark] .colab-df-convert:hover {\n",
              "      background-color: #434B5C;\n",
              "      box-shadow: 0px 1px 3px 1px rgba(0, 0, 0, 0.15);\n",
              "      filter: drop-shadow(0px 1px 2px rgba(0, 0, 0, 0.3));\n",
              "      fill: #FFFFFF;\n",
              "    }\n",
              "  </style>\n",
              "\n",
              "      <script>\n",
              "        const buttonEl =\n",
              "          document.querySelector('#df-f03f162f-5a82-41b2-a7e9-87184d14a9a2 button.colab-df-convert');\n",
              "        buttonEl.style.display =\n",
              "          google.colab.kernel.accessAllowed ? 'block' : 'none';\n",
              "\n",
              "        async function convertToInteractive(key) {\n",
              "          const element = document.querySelector('#df-f03f162f-5a82-41b2-a7e9-87184d14a9a2');\n",
              "          const dataTable =\n",
              "            await google.colab.kernel.invokeFunction('convertToInteractive',\n",
              "                                                     [key], {});\n",
              "          if (!dataTable) return;\n",
              "\n",
              "          const docLinkHtml = 'Like what you see? Visit the ' +\n",
              "            '<a target=\"_blank\" href=https://colab.research.google.com/notebooks/data_table.ipynb>data table notebook</a>'\n",
              "            + ' to learn more about interactive tables.';\n",
              "          element.innerHTML = '';\n",
              "          dataTable['output_type'] = 'display_data';\n",
              "          await google.colab.output.renderOutput(dataTable, element);\n",
              "          const docLink = document.createElement('div');\n",
              "          docLink.innerHTML = docLinkHtml;\n",
              "          element.appendChild(docLink);\n",
              "        }\n",
              "      </script>\n",
              "    </div>\n",
              "  </div>\n",
              "  "
            ]
          },
          "metadata": {},
          "execution_count": 278
        }
      ]
    },
    {
      "cell_type": "code",
      "execution_count": null,
      "metadata": {
        "id": "_AUgvPPztX4R"
      },
      "outputs": [],
      "source": [
        "data.drop(['TotalCharges','tenure'],axis=1,inplace=True)"
      ]
    },
    {
      "cell_type": "code",
      "execution_count": null,
      "metadata": {
        "colab": {
          "base_uri": "https://localhost:8080/"
        },
        "id": "-sLf1TuCxUBw",
        "outputId": "10210ae6-8f27-44dd-adf8-058070df72fc"
      },
      "outputs": [
        {
          "output_type": "execute_result",
          "data": {
            "text/plain": [
              "Index(['Churn', 'Contract', 'OnlineSecurity', 'TechSupport', 'OnlineBackup',\n",
              "       'MonthlyCharges', 'PaperlessBilling', 'DeviceProtection', 'Dependents'],\n",
              "      dtype='object')"
            ]
          },
          "metadata": {},
          "execution_count": 281
        }
      ],
      "source": [
        "data.columns"
      ]
    },
    {
      "cell_type": "code",
      "execution_count": null,
      "metadata": {
        "id": "Jotpo75SxALT"
      },
      "outputs": [],
      "source": [
        "# variance = pd.DataFrame(np.var(data)).reset_index()\n",
        "# variance.columns = [\"FEILD\",\"VARIANCE\"]\n",
        "# variance.VARIANCE = variance.VARIANCE.round(2)\n",
        "# variance\n",
        " \n",
        "# variance = variance[variance.VARIANCE>=0.10]\n",
        "# data= data[list(variance.FEILD)]\n",
        "# data.shape\n",
        "\n",
        "\n",
        " "
      ]
    },
    {
      "cell_type": "code",
      "execution_count": null,
      "metadata": {
        "colab": {
          "base_uri": "https://localhost:8080/"
        },
        "id": "2ho8QkibRGHW",
        "outputId": "074c1f23-df83-441f-f432-b95446cc1a99"
      },
      "outputs": [
        {
          "output_type": "execute_result",
          "data": {
            "text/plain": [
              "Index(['Churn', 'Contract', 'OnlineSecurity', 'TechSupport', 'OnlineBackup',\n",
              "       'MonthlyCharges', 'PaperlessBilling', 'DeviceProtection', 'Dependents'],\n",
              "      dtype='object')"
            ]
          },
          "metadata": {},
          "execution_count": 283
        }
      ],
      "source": [
        "data.columns"
      ]
    },
    {
      "cell_type": "code",
      "execution_count": null,
      "metadata": {
        "id": "8DyijvM5yw7I"
      },
      "outputs": [],
      "source": [
        "data['customerID']=data1.customerID"
      ]
    },
    {
      "cell_type": "code",
      "execution_count": null,
      "metadata": {
        "id": "xW4606rYgXX6"
      },
      "outputs": [],
      "source": [
        "X = data.drop(columns = \"Churn\")\n",
        "y = data[\"Churn\"].values"
      ]
    },
    {
      "cell_type": "markdown",
      "source": [
        "#splitting into train test\n"
      ],
      "metadata": {
        "id": "ws5vW0ar4AOe"
      }
    },
    {
      "cell_type": "code",
      "execution_count": null,
      "metadata": {
        "id": "q-J8dU3XgXX6"
      },
      "outputs": [],
      "source": [
        "X_train, X_test, y_train, y_test = train_test_split(X, y, test_size = 0.2, random_state = 4, stratify =y)"
      ]
    },
    {
      "cell_type": "code",
      "execution_count": null,
      "metadata": {
        "id": "-tH1SXVwpOyF"
      },
      "outputs": [],
      "source": [
        "X_train1=X_train.copy()\n",
        "X_test1=X_test.copy()"
      ]
    },
    {
      "cell_type": "code",
      "execution_count": null,
      "metadata": {
        "id": "r3mGHVG2y7FS"
      },
      "outputs": [],
      "source": [
        "X_train.drop('customerID',axis=1,inplace=True)\n",
        "X_test.drop('customerID',axis=1,inplace=True)"
      ]
    },
    {
      "cell_type": "code",
      "source": [
        "sc=StandardScaler()\n",
        "X_train=sc.fit_transform(X_train)\n",
        "X_test=sc.transform(X_test)"
      ],
      "metadata": {
        "id": "0XfdpbyhJdjm"
      },
      "execution_count": null,
      "outputs": []
    },
    {
      "cell_type": "code",
      "execution_count": null,
      "metadata": {
        "id": "9-PLNL24p4jz"
      },
      "outputs": [],
      "source": [
        "# from imblearn.over_sampling import SMOTE\n",
        "# oversample = SMOTE(random_state = 10)\n",
        "# X_train, y_train = oversample.fit_resample(X_train, y_train)"
      ]
    },
    {
      "cell_type": "code",
      "execution_count": null,
      "metadata": {
        "id": "2_tRVNlagXX6"
      },
      "outputs": [],
      "source": [
        "def distplot(feature, frame, color='r'):\n",
        "    plt.figure(figsize=(8,3))\n",
        "    plt.title(\"Distribution for {}\".format(feature))\n",
        "    ax = sns.distplot(frame[feature], color= color)"
      ]
    },
    {
      "cell_type": "markdown",
      "metadata": {
        "id": "Qd-411zegXX7"
      },
      "source": [
        "The features need standard scaling as all of them are distributed over different range values "
      ]
    },
    {
      "cell_type": "code",
      "execution_count": null,
      "metadata": {
        "colab": {
          "base_uri": "https://localhost:8080/"
        },
        "id": "n18Zn8O8gXX8",
        "outputId": "8d59318f-6c78-420d-e65f-f42afed338b1"
      },
      "outputs": [
        {
          "output_type": "execute_result",
          "data": {
            "text/plain": [
              "Index(['Churn', 'Contract', 'OnlineSecurity', 'TechSupport', 'OnlineBackup',\n",
              "       'MonthlyCharges', 'PaperlessBilling', 'DeviceProtection', 'Dependents',\n",
              "       'customerID'],\n",
              "      dtype='object')"
            ]
          },
          "metadata": {},
          "execution_count": 292
        }
      ],
      "source": [
        "data.columns"
      ]
    },
    {
      "cell_type": "code",
      "source": [],
      "metadata": {
        "id": "MJDCtLCvFRDR"
      },
      "execution_count": null,
      "outputs": []
    },
    {
      "cell_type": "code",
      "execution_count": null,
      "metadata": {
        "id": "mP0KApkDgXX8"
      },
      "outputs": [],
      "source": [
        "# # Divide the columns into 3 categories, one ofor standardisation, one for label encoding and one for one hot encoding\n",
        "\n",
        "# cat_cols_ohe =['PaymentMethod', 'Contract', 'InternetService'] # those that need one-hot encoding\n",
        "# cat_cols_le = list(set(X_train.columns)- set(col) - set(cat_cols_ohe)) #those that need label encoding\n",
        "\n",
        "# print(cat_cols_le)"
      ]
    },
    {
      "cell_type": "code",
      "source": [],
      "metadata": {
        "id": "x93dnrsTjiSw"
      },
      "execution_count": null,
      "outputs": []
    },
    {
      "cell_type": "code",
      "source": [
        "# from sklearn.decomposition import PCA\n",
        "# from sklearn.discriminant_analysis import LinearDiscriminantAnalysis as LDA\n",
        "\n",
        " \n",
        "# from sklearn.pipeline import Pipeline"
      ],
      "metadata": {
        "id": "SmwsHfZOFckH"
      },
      "execution_count": null,
      "outputs": []
    },
    {
      "cell_type": "markdown",
      "source": [],
      "metadata": {
        "id": "tPM4-SEyGi2x"
      }
    },
    {
      "cell_type": "code",
      "source": [
        "\n",
        "# steps = [('scaler', StandardScaler()),\n",
        "          \n",
        "#          (\"ada boost\", AdaBoostClassifier(learning_rate=0.01, n_estimators=420))\n",
        "#         ]\n",
        "# pipeline = Pipeline(steps)\n",
        "# pipeline.fit(X_train, y_train)\n",
        "\n",
        "# # check score on train data\n",
        "# pipeline.score(X_train, y_train)"
      ],
      "metadata": {
        "id": "AwxmoDxW4Iob"
      },
      "execution_count": null,
      "outputs": []
    },
    {
      "cell_type": "code",
      "source": [
        " "
      ],
      "metadata": {
        "id": "-M7AqeP2FauO"
      },
      "execution_count": null,
      "outputs": []
    },
    {
      "cell_type": "code",
      "source": [
        "data.duplicated().sum()"
      ],
      "metadata": {
        "colab": {
          "base_uri": "https://localhost:8080/"
        },
        "id": "GD6rpI06Mj9M",
        "outputId": "5d3eb6dd-f268-42da-838d-70a338ec0ffb"
      },
      "execution_count": null,
      "outputs": [
        {
          "output_type": "execute_result",
          "data": {
            "text/plain": [
              "0"
            ]
          },
          "metadata": {},
          "execution_count": 296
        }
      ]
    },
    {
      "cell_type": "markdown",
      "source": [
        "#Selecting Algorithm"
      ],
      "metadata": {
        "id": "zULAOCJC4Jt1"
      }
    },
    {
      "cell_type": "code",
      "execution_count": null,
      "metadata": {
        "id": "9b2KNrfqgXX-"
      },
      "outputs": [],
      "source": [
        "models = []\n",
        "\n",
        "models.append(('Logistic Regression', LogisticRegression(solver='liblinear', random_state = 0, class_weight='balanced')))\n",
        "models.append(('SVC', SVC(kernel = 'linear', random_state = 0)))\n",
        "models.append(('Kernel SVM', SVC(kernel = 'rbf', random_state = 0)))\n",
        "models.append(('KNN', KNeighborsClassifier(n_neighbors = 5, metric = 'minkowski', p = 2)))\n",
        "models.append(('Gaussian NB', GaussianNB()))\n",
        "models.append(('Decision Tree Classifier', DecisionTreeClassifier(criterion = 'entropy', random_state = 0)))\n",
        "models.append(('Random Forest', RandomForestClassifier(n_estimators=100, criterion = 'entropy', random_state = 0)))\n",
        "models.append((\"Adaboost\", AdaBoostClassifier()))\n",
        "models.append((\"Gradient boost classifier\", GradientBoostingClassifier()))\n",
        "# models.append((\"Voting Classifier\",  VotingClassifier(estimators=[('gbc', GradientBoostingClassifier()), ('lr', LogisticRegression()), ('abc',  AdaBoostClassifier())], voting='soft')))"
      ]
    },
    {
      "cell_type": "markdown",
      "metadata": {
        "id": "rxJOpRgogXX-"
      },
      "source": [
        "## Evaluating the model Results"
      ]
    },
    {
      "cell_type": "code",
      "execution_count": null,
      "metadata": {
        "id": "cL-qroeog77V"
      },
      "outputs": [],
      "source": [
        "from sklearn.model_selection import KFold"
      ]
    },
    {
      "cell_type": "markdown",
      "metadata": {
        "id": "nsYI3vVogXYE"
      },
      "source": [
        "## 2nd Iteration"
      ]
    },
    {
      "cell_type": "code",
      "execution_count": null,
      "metadata": {
        "id": "_UW8VZVVgXYG"
      },
      "outputs": [],
      "source": [
        "# Logistic regression\n",
        "classifier = LogisticRegression(random_state=0)\n",
        "classifier.fit(X_train, y_train)\n",
        "\n",
        "y_pred = classifier.predict(X_test)\n",
        "\n",
        "#SVC\n",
        "\n",
        "classifier2 = SVC(kernel = 'linear', random_state = 0)\n",
        "classifier2.fit(X_train, y_train)\n",
        "y_pred2 = classifier2.predict(X_test)\n",
        "\n",
        "#knn\n",
        "\n",
        "classifier3 = KNeighborsClassifier(n_neighbors=22, metric=\"minkowski\", p=2)\n",
        "classifier3.fit(X_train, y_train)\n",
        "y_pred3 = classifier3.predict(X_test)\n",
        "\n",
        "\n",
        "#Kernel SVM\n",
        "classifier4 = SVC(kernel=\"rbf\", random_state =0)\n",
        "classifier4.fit(X_train, y_train)\n",
        "y_pred4 = classifier4.predict(X_test)\n",
        "\n",
        "\n",
        "#Naive Bayes\n",
        "classifier5 = GaussianNB()\n",
        "classifier5.fit(X_train, y_train)\n",
        "y_pred5 = classifier5.predict(X_test)\n",
        "\n",
        "#Decision tree\n",
        "classifier6 = DecisionTreeClassifier(criterion=\"entropy\", random_state=0)\n",
        "classifier6.fit(X_train, y_train)\n",
        "y_pred6 = classifier6.predict(X_test)\n",
        "\n",
        "#Random Forest\n",
        "\n",
        "classifier7 = RandomForestClassifier(n_estimators=72, criterion=\"entropy\", random_state=0)\n",
        "classifier7.fit(X_train, y_train)\n",
        "y_pred7 = classifier7.predict(X_test)\n",
        "\n",
        "#Adaboost\n",
        "classifier8 = AdaBoostClassifier()\n",
        "classifier8.fit(X_train, y_train)\n",
        "y_pred8 = classifier8.predict(X_test)\n",
        "\n",
        "#Gradient Boost\n",
        "classifier9 = GradientBoostingClassifier()\n",
        "\n",
        "\n",
        "classifier9.fit(X_train, y_train)\n",
        "y_pred9 = classifier9.predict(X_test)"
      ]
    },
    {
      "cell_type": "code",
      "execution_count": null,
      "metadata": {
        "id": "VT8JfJvwgXYI"
      },
      "outputs": [],
      "source": [
        "#: Model Evaluation"
      ]
    },
    {
      "cell_type": "code",
      "execution_count": null,
      "metadata": {
        "id": "3y3W2YTYinkb"
      },
      "outputs": [],
      "source": [
        "#  def k_fold_cross_validation(classifier_name, name):\n",
        "#     accuracies = cross_val_score(estimator=classifier_name,\n",
        "#                             X=X_train, y=y_train,scoring='roc_auc', cv =10)\n",
        "#     print(name, \"accuracy: %0.2f (+/- %0.2f)\"  % (accuracies.mean(), accuracies.std() * 2))"
      ]
    },
    {
      "cell_type": "code",
      "execution_count": null,
      "metadata": {
        "id": "QQLEf5u1gXYK"
      },
      "outputs": [],
      "source": [
        "# ROC Curve\n",
        "\n",
        "def ROC_curve(classifier_, name, y_pred_):\n",
        "    classifier_.fit(X_train, y_train) \n",
        "    probs = classifier_.predict_proba(X_test) \n",
        "    probs = probs[:, 1] \n",
        "    classifier_roc_auc = roc_auc_score(y_test, probs )\n",
        "    rf_fpr, rf_tpr, rf_thresholds = roc_curve(y_test, classifier_.predict_proba(X_test)[:,1])\n",
        "    plt.figure(figsize=(14, 6))\n",
        "\n",
        "    label_ = name + '(area = %0.2f)' % classifier_roc_auc\n",
        "    # Plot Adaboost ROC\n",
        "    plt.plot(rf_fpr, rf_tpr, \n",
        "    label=label_)\n",
        "    # Plot Base Rate ROC\n",
        "    plt.plot([0,1], [0,1],label='Base Rate' 'k--')\n",
        "    plt.xlim([0.0, 1.0])\n",
        "    plt.ylim([0.0, 1.05])\n",
        "    plt.ylabel('True Positive Rate \\n',horizontalalignment=\"center\",\n",
        "    fontstyle = \"normal\", fontsize = \"medium\", \n",
        "    fontfamily = \"sans-serif\")\n",
        "\n",
        "    plt.xlabel('\\nFalse Positive Rate \\n',horizontalalignment=\"center\",\n",
        "    fontstyle = \"normal\", fontsize = \"medium\", \n",
        "    fontfamily = \"sans-serif\")\n",
        "\n",
        "    plt.title('ROC Graph \\n',horizontalalignment=\"center\", \n",
        "    fontstyle = \"normal\", fontsize = \"22\", \n",
        "    fontfamily = \"sans-serif\")\n",
        "\n",
        "    plt.legend(loc=\"lower right\", fontsize = \"medium\")\n",
        "    plt.xticks(rotation=0, horizontalalignment=\"center\")\n",
        "    plt.yticks(rotation=0, horizontalalignment=\"right\")\n",
        "    plt.show()\n",
        "    \n",
        "  "
      ]
    },
    {
      "cell_type": "code",
      "execution_count": null,
      "metadata": {
        "colab": {
          "base_uri": "https://localhost:8080/",
          "height": 1000
        },
        "id": "3BvXloCQgXYL",
        "scrolled": false,
        "outputId": "4d08fa11-29ea-4c1d-ce5a-4ded289bf830"
      },
      "outputs": [
        {
          "output_type": "display_data",
          "data": {
            "text/plain": [
              "<Figure size 1008x432 with 1 Axes>"
            ],
            "image/png": "[encoded data removed]"
          },
          "metadata": {
            "needs_background": "light"
          }
        },
        {
          "output_type": "display_data",
          "data": {
            "text/plain": [
              "<Figure size 1008x432 with 1 Axes>"
            ],
            "image/png": "[encoded data removed]"
          },
          "metadata": {
            "needs_background": "light"
          }
        },
        {
          "output_type": "display_data",
          "data": {
            "text/plain": [
              "<Figure size 1008x432 with 1 Axes>"
            ],
            "image/png": "[encoded data removed]"
          },
          "metadata": {
            "needs_background": "light"
          }
        },
        {
          "output_type": "display_data",
          "data": {
            "text/plain": [
              "<Figure size 1008x432 with 1 Axes>"
            ],
            "image/png": "[encoded data removed]"
          },
          "metadata": {
            "needs_background": "light"
          }
        },
        {
          "output_type": "display_data",
          "data": {
            "text/plain": [
              "<Figure size 1008x432 with 1 Axes>"
            ],
            "image/png": "[encoded data removed]"
          },
          "metadata": {
            "needs_background": "light"
          }
        },
        {
          "output_type": "display_data",
          "data": {
            "text/plain": [
              "<Figure size 1008x432 with 1 Axes>"
            ],
            "image/png": "[encoded data removed]"
          },
          "metadata": {
            "needs_background": "light"
          }
        },
        {
          "output_type": "display_data",
          "data": {
            "text/plain": [
              "<Figure size 1008x432 with 1 Axes>"
            ],
            "image/png": "[encoded data removed]"
          },
          "metadata": {
            "needs_background": "light"
          }
        }
      ],
      "source": [
        "preds = [y_pred, y_pred3,  y_pred5, y_pred6, y_pred7,\n",
        "              y_pred8, y_pred9]\n",
        "classifiers = [classifier , classifier3, classifier5, classifier6, classifier7,\n",
        "             classifier8, classifier9]\n",
        "model_names_ = [\"Logistic Regression\",  \"K-Nearest Neighbours\",\"Naive Bayes\",\n",
        "               \"Decision Tree\", \"Random Forest\", \"Adaboost\", \"Gradient Boost\"]\n",
        "\n",
        "for i, j, k in zip(classifiers, model_names_, preds):\n",
        "    ROC_curve(i, j, k) "
      ]
    },
    {
      "cell_type": "markdown",
      "metadata": {
        "id": "mRKZojigv0pa"
      },
      "source": [
        "we can go for AdaBoost and GradientBoosting with HyperParameter Tunning  "
      ]
    },
    {
      "cell_type": "code",
      "execution_count": null,
      "metadata": {
        "id": "fU42e8yUgXYL"
      },
      "outputs": [],
      "source": [
        "# Cross validation\n",
        "\n",
        "from sklearn.model_selection import cross_val_score\n",
        "\n",
        "# Function that will track the mean value and the standard deviation of the accuracy\n",
        "def cvDictGen(functions, scr, X_train = X, y_train = y, cv = 5):\n",
        "    cvDict = {}\n",
        "    for func in functions:\n",
        "        cvScore = cross_val_score(func, X_train, y_train, cv = cv, scoring = scr)\n",
        "        cvDict[str(func).split('(')[0]] = [cvScore.mean(), cvScore.std()]\n",
        "    \n",
        "    return cvDict"
      ]
    },
    {
      "cell_type": "code",
      "execution_count": null,
      "metadata": {
        "id": "28lGQX8igXYM"
      },
      "outputs": [],
      "source": [
        "# cvD = cvDictGen(classifiers, scr = 'roc_auc')\n",
        "# cvD"
      ]
    },
    {
      "cell_type": "code",
      "execution_count": null,
      "metadata": {
        "id": "B8MD2Lryj6pl"
      },
      "outputs": [],
      "source": [
        " "
      ]
    },
    {
      "cell_type": "markdown",
      "metadata": {
        "id": "y_225qNdgXYM"
      },
      "source": [
        "## Predicting feature importance"
      ]
    },
    {
      "cell_type": "code",
      "execution_count": null,
      "metadata": {
        "colab": {
          "base_uri": "https://localhost:8080/",
          "height": 363
        },
        "id": "kEt5XZaBgXYN",
        "outputId": "987e2aa5-3834-47f5-8e85-f335511d5154"
      },
      "outputs": [
        {
          "output_type": "execute_result",
          "data": {
            "text/plain": [
              "           features      coef\n",
              "0             Churn  0.548304\n",
              "4      OnlineBackup  0.190589\n",
              "1          Contract  0.112278\n",
              "2    OnlineSecurity  0.075024\n",
              "3       TechSupport  0.038702\n",
              "5    MonthlyCharges  0.016922\n",
              "6  PaperlessBilling  0.012181\n",
              "7  DeviceProtection  0.006000\n",
              "8        Dependents       NaN\n",
              "9        customerID       NaN"
            ],
            "text/html": [
              "\n",
              "  <div id=\"df-dfbf488b-bccc-451d-897e-88a18cd993bc\">\n",
              "    <div class=\"colab-df-container\">\n",
              "      <div>\n",
              "<style scoped>\n",
              "    .dataframe tbody tr th:only-of-type {\n",
              "        vertical-align: middle;\n",
              "    }\n",
              "\n",
              "    .dataframe tbody tr th {\n",
              "        vertical-align: top;\n",
              "    }\n",
              "\n",
              "    .dataframe thead th {\n",
              "        text-align: right;\n",
              "    }\n",
              "</style>\n",
              "<table border=\"1\" class=\"dataframe\">\n",
              "  <thead>\n",
              "    <tr style=\"text-align: right;\">\n",
              "      <th></th>\n",
              "      <th>features</th>\n",
              "      <th>coef</th>\n",
              "    </tr>\n",
              "  </thead>\n",
              "  <tbody>\n",
              "    <tr>\n",
              "      <th>0</th>\n",
              "      <td>Churn</td>\n",
              "      <td>0.548304</td>\n",
              "    </tr>\n",
              "    <tr>\n",
              "      <th>4</th>\n",
              "      <td>OnlineBackup</td>\n",
              "      <td>0.190589</td>\n",
              "    </tr>\n",
              "    <tr>\n",
              "      <th>1</th>\n",
              "      <td>Contract</td>\n",
              "      <td>0.112278</td>\n",
              "    </tr>\n",
              "    <tr>\n",
              "      <th>2</th>\n",
              "      <td>OnlineSecurity</td>\n",
              "      <td>0.075024</td>\n",
              "    </tr>\n",
              "    <tr>\n",
              "      <th>3</th>\n",
              "      <td>TechSupport</td>\n",
              "      <td>0.038702</td>\n",
              "    </tr>\n",
              "    <tr>\n",
              "      <th>5</th>\n",
              "      <td>MonthlyCharges</td>\n",
              "      <td>0.016922</td>\n",
              "    </tr>\n",
              "    <tr>\n",
              "      <th>6</th>\n",
              "      <td>PaperlessBilling</td>\n",
              "      <td>0.012181</td>\n",
              "    </tr>\n",
              "    <tr>\n",
              "      <th>7</th>\n",
              "      <td>DeviceProtection</td>\n",
              "      <td>0.006000</td>\n",
              "    </tr>\n",
              "    <tr>\n",
              "      <th>8</th>\n",
              "      <td>Dependents</td>\n",
              "      <td>NaN</td>\n",
              "    </tr>\n",
              "    <tr>\n",
              "      <th>9</th>\n",
              "      <td>customerID</td>\n",
              "      <td>NaN</td>\n",
              "    </tr>\n",
              "  </tbody>\n",
              "</table>\n",
              "</div>\n",
              "      <button class=\"colab-df-convert\" onclick=\"convertToInteractive('df-dfbf488b-bccc-451d-897e-88a18cd993bc')\"\n",
              "              title=\"Convert this dataframe to an interactive table.\"\n",
              "              style=\"display:none;\">\n",
              "        \n",
              "  <svg xmlns=\"http://www.w3.org/2000/svg\" height=\"24px\"viewBox=\"0 0 24 24\"\n",
              "       width=\"24px\">\n",
              "    <path d=\"M0 0h24v24H0V0z\" fill=\"none\"/>\n",
              "    <path d=\"M18.56 5.44l.94 2.06.94-2.06 2.06-.94-2.06-.94-.94-2.06-.94 2.06-2.06.94zm-11 1L8.5 8.5l.94-2.06 2.06-.94-2.06-.94L8.5 2.5l-.94 2.06-2.06.94zm10 10l.94 2.06.94-2.06 2.06-.94-2.06-.94-.94-2.06-.94 2.06-2.06.94z\"/><path d=\"M17.41 7.96l-1.37-1.37c-.4-.4-.92-.59-1.43-.59-.52 0-1.04.2-1.43.59L10.3 9.45l-7.72 7.72c-.78.78-.78 2.05 0 2.83L4 21.41c.39.39.9.59 1.41.59.51 0 1.02-.2 1.41-.59l7.78-7.78 2.81-2.81c.8-.78.8-2.07 0-2.86zM5.41 20L4 18.59l7.72-7.72 1.47 1.35L5.41 20z\"/>\n",
              "  </svg>\n",
              "      </button>\n",
              "      \n",
              "  <style>\n",
              "    .colab-df-container {\n",
              "      display:flex;\n",
              "      flex-wrap:wrap;\n",
              "      gap: 12px;\n",
              "    }\n",
              "\n",
              "    .colab-df-convert {\n",
              "      background-color: #E8F0FE;\n",
              "      border: none;\n",
              "      border-radius: 50%;\n",
              "      cursor: pointer;\n",
              "      display: none;\n",
              "      fill: #1967D2;\n",
              "      height: 32px;\n",
              "      padding: 0 0 0 0;\n",
              "      width: 32px;\n",
              "    }\n",
              "\n",
              "    .colab-df-convert:hover {\n",
              "      background-color: #E2EBFA;\n",
              "      box-shadow: 0px 1px 2px rgba(60, 64, 67, 0.3), 0px 1px 3px 1px rgba(60, 64, 67, 0.15);\n",
              "      fill: #174EA6;\n",
              "    }\n",
              "\n",
              "    [theme=dark] .colab-df-convert {\n",
              "      background-color: #3B4455;\n",
              "      fill: #D2E3FC;\n",
              "    }\n",
              "\n",
              "    [theme=dark] .colab-df-convert:hover {\n",
              "      background-color: #434B5C;\n",
              "      box-shadow: 0px 1px 3px 1px rgba(0, 0, 0, 0.15);\n",
              "      filter: drop-shadow(0px 1px 2px rgba(0, 0, 0, 0.3));\n",
              "      fill: #FFFFFF;\n",
              "    }\n",
              "  </style>\n",
              "\n",
              "      <script>\n",
              "        const buttonEl =\n",
              "          document.querySelector('#df-dfbf488b-bccc-451d-897e-88a18cd993bc button.colab-df-convert');\n",
              "        buttonEl.style.display =\n",
              "          google.colab.kernel.accessAllowed ? 'block' : 'none';\n",
              "\n",
              "        async function convertToInteractive(key) {\n",
              "          const element = document.querySelector('#df-dfbf488b-bccc-451d-897e-88a18cd993bc');\n",
              "          const dataTable =\n",
              "            await google.colab.kernel.invokeFunction('convertToInteractive',\n",
              "                                                     [key], {});\n",
              "          if (!dataTable) return;\n",
              "\n",
              "          const docLinkHtml = 'Like what you see? Visit the ' +\n",
              "            '<a target=\"_blank\" href=https://colab.research.google.com/notebooks/data_table.ipynb>data table notebook</a>'\n",
              "            + ' to learn more about interactive tables.';\n",
              "          element.innerHTML = '';\n",
              "          dataTable['output_type'] = 'display_data';\n",
              "          await google.colab.output.renderOutput(dataTable, element);\n",
              "          const docLink = document.createElement('div');\n",
              "          docLink.innerHTML = docLinkHtml;\n",
              "          element.appendChild(docLink);\n",
              "        }\n",
              "      </script>\n",
              "    </div>\n",
              "  </div>\n",
              "  "
            ]
          },
          "metadata": {},
          "execution_count": 306
        }
      ],
      "source": [
        "# Gradient Boost\n",
        "feature_importances = pd.concat([pd.DataFrame(data.columns, columns = [\"features\"]),\n",
        "                                 pd.DataFrame(np.transpose(classifier9.feature_importances_), columns = [\"coef\"])],axis = 1)\n",
        "feature_importances.sort_values(by = \"coef\", ascending = False)"
      ]
    },
    {
      "cell_type": "code",
      "execution_count": null,
      "metadata": {
        "colab": {
          "base_uri": "https://localhost:8080/",
          "height": 363
        },
        "id": "9di1QcuigXYN",
        "outputId": "f8a1edd1-acb1-4e39-a4a6-35bfadee3e77"
      },
      "outputs": [
        {
          "output_type": "execute_result",
          "data": {
            "text/plain": [
              "           features  coef\n",
              "4      OnlineBackup  0.66\n",
              "0             Churn  0.14\n",
              "1          Contract  0.04\n",
              "2    OnlineSecurity  0.04\n",
              "3       TechSupport  0.04\n",
              "6  PaperlessBilling  0.04\n",
              "5    MonthlyCharges  0.02\n",
              "7  DeviceProtection  0.02\n",
              "8        Dependents   NaN\n",
              "9        customerID   NaN"
            ],
            "text/html": [
              "\n",
              "  <div id=\"df-8f0574d4-dc5f-4acd-8108-e256147133ba\">\n",
              "    <div class=\"colab-df-container\">\n",
              "      <div>\n",
              "<style scoped>\n",
              "    .dataframe tbody tr th:only-of-type {\n",
              "        vertical-align: middle;\n",
              "    }\n",
              "\n",
              "    .dataframe tbody tr th {\n",
              "        vertical-align: top;\n",
              "    }\n",
              "\n",
              "    .dataframe thead th {\n",
              "        text-align: right;\n",
              "    }\n",
              "</style>\n",
              "<table border=\"1\" class=\"dataframe\">\n",
              "  <thead>\n",
              "    <tr style=\"text-align: right;\">\n",
              "      <th></th>\n",
              "      <th>features</th>\n",
              "      <th>coef</th>\n",
              "    </tr>\n",
              "  </thead>\n",
              "  <tbody>\n",
              "    <tr>\n",
              "      <th>4</th>\n",
              "      <td>OnlineBackup</td>\n",
              "      <td>0.66</td>\n",
              "    </tr>\n",
              "    <tr>\n",
              "      <th>0</th>\n",
              "      <td>Churn</td>\n",
              "      <td>0.14</td>\n",
              "    </tr>\n",
              "    <tr>\n",
              "      <th>1</th>\n",
              "      <td>Contract</td>\n",
              "      <td>0.04</td>\n",
              "    </tr>\n",
              "    <tr>\n",
              "      <th>2</th>\n",
              "      <td>OnlineSecurity</td>\n",
              "      <td>0.04</td>\n",
              "    </tr>\n",
              "    <tr>\n",
              "      <th>3</th>\n",
              "      <td>TechSupport</td>\n",
              "      <td>0.04</td>\n",
              "    </tr>\n",
              "    <tr>\n",
              "      <th>6</th>\n",
              "      <td>PaperlessBilling</td>\n",
              "      <td>0.04</td>\n",
              "    </tr>\n",
              "    <tr>\n",
              "      <th>5</th>\n",
              "      <td>MonthlyCharges</td>\n",
              "      <td>0.02</td>\n",
              "    </tr>\n",
              "    <tr>\n",
              "      <th>7</th>\n",
              "      <td>DeviceProtection</td>\n",
              "      <td>0.02</td>\n",
              "    </tr>\n",
              "    <tr>\n",
              "      <th>8</th>\n",
              "      <td>Dependents</td>\n",
              "      <td>NaN</td>\n",
              "    </tr>\n",
              "    <tr>\n",
              "      <th>9</th>\n",
              "      <td>customerID</td>\n",
              "      <td>NaN</td>\n",
              "    </tr>\n",
              "  </tbody>\n",
              "</table>\n",
              "</div>\n",
              "      <button class=\"colab-df-convert\" onclick=\"convertToInteractive('df-8f0574d4-dc5f-4acd-8108-e256147133ba')\"\n",
              "              title=\"Convert this dataframe to an interactive table.\"\n",
              "              style=\"display:none;\">\n",
              "        \n",
              "  <svg xmlns=\"http://www.w3.org/2000/svg\" height=\"24px\"viewBox=\"0 0 24 24\"\n",
              "       width=\"24px\">\n",
              "    <path d=\"M0 0h24v24H0V0z\" fill=\"none\"/>\n",
              "    <path d=\"M18.56 5.44l.94 2.06.94-2.06 2.06-.94-2.06-.94-.94-2.06-.94 2.06-2.06.94zm-11 1L8.5 8.5l.94-2.06 2.06-.94-2.06-.94L8.5 2.5l-.94 2.06-2.06.94zm10 10l.94 2.06.94-2.06 2.06-.94-2.06-.94-.94-2.06-.94 2.06-2.06.94z\"/><path d=\"M17.41 7.96l-1.37-1.37c-.4-.4-.92-.59-1.43-.59-.52 0-1.04.2-1.43.59L10.3 9.45l-7.72 7.72c-.78.78-.78 2.05 0 2.83L4 21.41c.39.39.9.59 1.41.59.51 0 1.02-.2 1.41-.59l7.78-7.78 2.81-2.81c.8-.78.8-2.07 0-2.86zM5.41 20L4 18.59l7.72-7.72 1.47 1.35L5.41 20z\"/>\n",
              "  </svg>\n",
              "      </button>\n",
              "      \n",
              "  <style>\n",
              "    .colab-df-container {\n",
              "      display:flex;\n",
              "      flex-wrap:wrap;\n",
              "      gap: 12px;\n",
              "    }\n",
              "\n",
              "    .colab-df-convert {\n",
              "      background-color: #E8F0FE;\n",
              "      border: none;\n",
              "      border-radius: 50%;\n",
              "      cursor: pointer;\n",
              "      display: none;\n",
              "      fill: #1967D2;\n",
              "      height: 32px;\n",
              "      padding: 0 0 0 0;\n",
              "      width: 32px;\n",
              "    }\n",
              "\n",
              "    .colab-df-convert:hover {\n",
              "      background-color: #E2EBFA;\n",
              "      box-shadow: 0px 1px 2px rgba(60, 64, 67, 0.3), 0px 1px 3px 1px rgba(60, 64, 67, 0.15);\n",
              "      fill: #174EA6;\n",
              "    }\n",
              "\n",
              "    [theme=dark] .colab-df-convert {\n",
              "      background-color: #3B4455;\n",
              "      fill: #D2E3FC;\n",
              "    }\n",
              "\n",
              "    [theme=dark] .colab-df-convert:hover {\n",
              "      background-color: #434B5C;\n",
              "      box-shadow: 0px 1px 3px 1px rgba(0, 0, 0, 0.15);\n",
              "      filter: drop-shadow(0px 1px 2px rgba(0, 0, 0, 0.3));\n",
              "      fill: #FFFFFF;\n",
              "    }\n",
              "  </style>\n",
              "\n",
              "      <script>\n",
              "        const buttonEl =\n",
              "          document.querySelector('#df-8f0574d4-dc5f-4acd-8108-e256147133ba button.colab-df-convert');\n",
              "        buttonEl.style.display =\n",
              "          google.colab.kernel.accessAllowed ? 'block' : 'none';\n",
              "\n",
              "        async function convertToInteractive(key) {\n",
              "          const element = document.querySelector('#df-8f0574d4-dc5f-4acd-8108-e256147133ba');\n",
              "          const dataTable =\n",
              "            await google.colab.kernel.invokeFunction('convertToInteractive',\n",
              "                                                     [key], {});\n",
              "          if (!dataTable) return;\n",
              "\n",
              "          const docLinkHtml = 'Like what you see? Visit the ' +\n",
              "            '<a target=\"_blank\" href=https://colab.research.google.com/notebooks/data_table.ipynb>data table notebook</a>'\n",
              "            + ' to learn more about interactive tables.';\n",
              "          element.innerHTML = '';\n",
              "          dataTable['output_type'] = 'display_data';\n",
              "          await google.colab.output.renderOutput(dataTable, element);\n",
              "          const docLink = document.createElement('div');\n",
              "          docLink.innerHTML = docLinkHtml;\n",
              "          element.appendChild(docLink);\n",
              "        }\n",
              "      </script>\n",
              "    </div>\n",
              "  </div>\n",
              "  "
            ]
          },
          "metadata": {},
          "execution_count": 307
        }
      ],
      "source": [
        "# Ada boost classifier\n",
        "feature_importances = pd.concat([pd.DataFrame(data.columns, columns = [\"features\"]),\n",
        "                                 pd.DataFrame(np.transpose(classifier8.feature_importances_), columns = [\"coef\"])],axis = 1)\n",
        "feature_importances.sort_values(by = \"coef\", ascending = False)"
      ]
    },
    {
      "cell_type": "code",
      "execution_count": null,
      "metadata": {
        "colab": {
          "base_uri": "https://localhost:8080/"
        },
        "id": "oyGF0nov4OfY",
        "outputId": "97f11344-c1f1-4a1e-8a00-5d9a5f5b3294"
      },
      "outputs": [
        {
          "output_type": "execute_result",
          "data": {
            "text/plain": [
              "array([[-0.82739079, -0.91856405, -0.92338234, ..., -1.20545352,\n",
              "        -1.02580311, -0.66117221],\n",
              "       [ 1.58092651,  1.4115026 ,  1.40316891, ...,  0.8295633 ,\n",
              "         1.25083626,  1.51246525],\n",
              "       [-0.82739079, -0.91856405, -0.92338234, ...,  0.8295633 ,\n",
              "        -1.02580311, -0.66117221],\n",
              "       ...,\n",
              "       [-0.82739079, -0.91856405, -0.92338234, ..., -1.20545352,\n",
              "        -1.02580311,  1.51246525],\n",
              "       [ 0.37676786,  1.4115026 , -0.92338234, ..., -1.20545352,\n",
              "         1.25083626, -0.66117221],\n",
              "       [-0.82739079, -0.91856405, -0.92338234, ...,  0.8295633 ,\n",
              "         1.25083626, -0.66117221]])"
            ]
          },
          "metadata": {},
          "execution_count": 308
        }
      ],
      "source": [
        "X_train"
      ]
    },
    {
      "cell_type": "markdown",
      "metadata": {
        "id": "QwjyQ9V9gXYO"
      },
      "source": [
        "## Hyper Parameter tuning"
      ]
    },
    {
      "cell_type": "markdown",
      "metadata": {
        "id": "tuRhXrAHgXYO"
      },
      "source": [
        "## Using Randomized search CV"
      ]
    },
    {
      "cell_type": "code",
      "execution_count": null,
      "metadata": {
        "colab": {
          "base_uri": "https://localhost:8080/"
        },
        "id": "ivM-RUYqgXYP",
        "outputId": "fe1251ec-5bf9-4093-a767-02b38e4ee8e4"
      },
      "outputs": [
        {
          "output_type": "execute_result",
          "data": {
            "text/plain": [
              "RandomizedSearchCV(estimator=AdaBoostClassifier(), n_iter=5,\n",
              "                   param_distributions={'learning_rate': [0.001, 0.01, 0.1,\n",
              "                                                          0.3],\n",
              "                                        'n_estimators': [10, 50, 100, 200,\n",
              "                                                         420]},\n",
              "                   scoring='roc_auc')"
            ]
          },
          "metadata": {},
          "execution_count": 309
        }
      ],
      "source": [
        "#Ada boost\n",
        "\n",
        "from sklearn.model_selection import RandomizedSearchCV\n",
        "from scipy.stats import randint\n",
        "adaHyperParams = {'n_estimators': [10,50,100,200,420], \"learning_rate\":  [0.001, 0.01, 0.1, 0.3]}\n",
        "gridSearchAda = RandomizedSearchCV(estimator = classifier8, param_distributions = adaHyperParams, n_iter = 5,\n",
        "                                   scoring = 'roc_auc') # other option accuracy\n",
        "gridSearchAda.fit(X_train, y_train)"
      ]
    },
    {
      "cell_type": "code",
      "execution_count": null,
      "metadata": {
        "colab": {
          "base_uri": "https://localhost:8080/"
        },
        "id": "aAlvbKX6gXYP",
        "outputId": "f8f4572f-45ae-4827-fd5e-7fed8ab3c23a"
      },
      "outputs": [
        {
          "output_type": "execute_result",
          "data": {
            "text/plain": [
              "({'n_estimators': 100, 'learning_rate': 0.1}, 0.8232429324544285)"
            ]
          },
          "metadata": {},
          "execution_count": 310
        }
      ],
      "source": [
        "gridSearchAda.best_params_, gridSearchAda.best_score_"
      ]
    },
    {
      "cell_type": "code",
      "source": [
        "X_test\n"
      ],
      "metadata": {
        "colab": {
          "base_uri": "https://localhost:8080/"
        },
        "id": "sfnPGFM_MKkj",
        "outputId": "e9c9fe4c-7967-4828-ca5b-769cc335ddf3"
      },
      "execution_count": null,
      "outputs": [
        {
          "output_type": "execute_result",
          "data": {
            "text/plain": [
              "array([[-0.82739079, -0.91856405, -0.92338234, ...,  0.8295633 ,\n",
              "        -1.02580311, -0.66117221],\n",
              "       [-0.82739079, -0.91856405, -0.92338234, ...,  0.8295633 ,\n",
              "        -1.02580311, -0.66117221],\n",
              "       [-0.82739079, -0.91856405, -0.92338234, ...,  0.8295633 ,\n",
              "        -1.02580311, -0.66117221],\n",
              "       ...,\n",
              "       [ 1.58092651,  1.4115026 ,  1.40316891, ...,  0.8295633 ,\n",
              "         1.25083626,  1.51246525],\n",
              "       [-0.82739079, -0.91856405,  1.40316891, ...,  0.8295633 ,\n",
              "        -1.02580311, -0.66117221],\n",
              "       [ 0.37676786, -0.91856405,  1.40316891, ...,  0.8295633 ,\n",
              "        -1.02580311, -0.66117221]])"
            ]
          },
          "metadata": {},
          "execution_count": 311
        }
      ]
    },
    {
      "cell_type": "code",
      "execution_count": null,
      "metadata": {
        "id": "LqVzO1hDgXYQ"
      },
      "outputs": [],
      "source": [
        "bestAdaModFitted = gridSearchAda.best_estimator_.fit(X_train, y_train)"
      ]
    },
    {
      "cell_type": "code",
      "execution_count": null,
      "metadata": {
        "colab": {
          "base_uri": "https://localhost:8080/"
        },
        "id": "QVmDTLzOgXYQ",
        "outputId": "dfac314e-ddb5-46a6-caf0-0a1228039c9e"
      },
      "outputs": [
        {
          "output_type": "execute_result",
          "data": {
            "text/plain": [
              "0.8232459841280524"
            ]
          },
          "metadata": {},
          "execution_count": 313
        }
      ],
      "source": [
        "# Getting the score AdaBoost\n",
        "test_labels = bestAdaModFitted.predict_proba(X_test)[:,1]\n",
        "roc_auc_score(y_test,test_labels , average = 'macro', sample_weight = None)"
      ]
    },
    {
      "cell_type": "code",
      "execution_count": null,
      "metadata": {
        "colab": {
          "base_uri": "https://localhost:8080/"
        },
        "id": "VFjvA3gTqqEA",
        "outputId": "7dffc03d-8e5b-450c-c1bf-cfeb6c87c0e8"
      },
      "outputs": [
        {
          "output_type": "execute_result",
          "data": {
            "text/plain": [
              "AdaBoostClassifier(learning_rate=0.1, n_estimators=100)"
            ]
          },
          "metadata": {},
          "execution_count": 314
        }
      ],
      "source": [
        "gridSearchAda.best_estimator_"
      ]
    },
    {
      "cell_type": "code",
      "source": [],
      "metadata": {
        "id": "qFx7_v_wM5AZ"
      },
      "execution_count": null,
      "outputs": []
    },
    {
      "cell_type": "markdown",
      "metadata": {
        "id": "8mKE2tZSgXYR"
      },
      "source": [
        "### Gradient Boost"
      ]
    },
    {
      "cell_type": "code",
      "execution_count": null,
      "metadata": {
        "colab": {
          "base_uri": "https://localhost:8080/"
        },
        "id": "BN6p9VpfgXYR",
        "outputId": "af1277ac-b909-4da5-e842-fa3bdbbbdfed"
      },
      "outputs": [
        {
          "output_type": "execute_result",
          "data": {
            "text/plain": [
              "RandomizedSearchCV(estimator=GradientBoostingClassifier(),\n",
              "                   param_distributions={'loss': ['deviance', 'exponential'],\n",
              "                                        'max_depth': <scipy.stats._distn_infrastructure.rv_frozen object at 0x7f5ab41177d0>,\n",
              "                                        'n_estimators': <scipy.stats._distn_infrastructure.rv_frozen object at 0x7f5ab4117dd0>},\n",
              "                   scoring='roc_auc')"
            ]
          },
          "metadata": {},
          "execution_count": 315
        }
      ],
      "source": [
        "gbHyperParams = {'loss' : ['deviance', 'exponential'],\n",
        "                 'n_estimators': randint(10, 500),\n",
        "                 'max_depth': randint(1,10)}\n",
        "# Initialization\n",
        "gridSearchGB = RandomizedSearchCV(estimator = classifier9, param_distributions = gbHyperParams, n_iter = 10,\n",
        "                                   scoring = 'roc_auc')\n",
        "# Fitting the model\n",
        "gridSearchGB.fit(X_train, y_train)"
      ]
    },
    {
      "cell_type": "code",
      "execution_count": null,
      "metadata": {
        "colab": {
          "base_uri": "https://localhost:8080/"
        },
        "id": "0EP_g8OcgXYS",
        "outputId": "35306ccf-b674-428a-af2e-9b17978acb45"
      },
      "outputs": [
        {
          "output_type": "execute_result",
          "data": {
            "text/plain": [
              "({'loss': 'deviance', 'max_depth': 1, 'n_estimators': 282}, 0.8237612056329816)"
            ]
          },
          "metadata": {},
          "execution_count": 316
        }
      ],
      "source": [
        "gridSearchGB.best_params_, gridSearchGB.best_score_"
      ]
    },
    {
      "cell_type": "code",
      "execution_count": null,
      "metadata": {
        "id": "dNQkwiI2gXYT"
      },
      "outputs": [],
      "source": [
        "bestGBModFitted = gridSearchGB.best_estimator_.fit(X_train, y_train)"
      ]
    },
    {
      "cell_type": "code",
      "execution_count": null,
      "metadata": {
        "colab": {
          "base_uri": "https://localhost:8080/"
        },
        "id": "7mVH9jp7gXYT",
        "outputId": "109aba51-5c55-44c6-ac4f-2ddc849ad8ae"
      },
      "outputs": [
        {
          "output_type": "execute_result",
          "data": {
            "text/plain": [
              "0.822"
            ]
          },
          "metadata": {},
          "execution_count": 318
        }
      ],
      "source": [
        "# Getting the score AdaBoost\n",
        "test_labels_GB = bestGBModFitted.predict_proba(np.array(X_test))[:,1]\n",
        "roc_auc_score(y_test,test_labels_GB , average = 'macro', sample_weight = None).round(3)"
      ]
    },
    {
      "cell_type": "code",
      "source": [
        "test_labels_GB1 = bestGBModFitted.predict(X_test)"
      ],
      "metadata": {
        "id": "-8g4GzvEZfok"
      },
      "execution_count": null,
      "outputs": []
    },
    {
      "cell_type": "code",
      "execution_count": null,
      "metadata": {
        "colab": {
          "base_uri": "https://localhost:8080/"
        },
        "id": "F7u9TfoEqSPU",
        "outputId": "a1c92533-d8f3-4d7f-cdb3-24c280f02676"
      },
      "outputs": [
        {
          "output_type": "execute_result",
          "data": {
            "text/plain": [
              "GradientBoostingClassifier(max_depth=1, n_estimators=282)"
            ]
          },
          "metadata": {},
          "execution_count": 320
        }
      ],
      "source": [
        "  gridSearchGB.best_estimator_"
      ]
    },
    {
      "cell_type": "code",
      "source": [
        "from sklearn.metrics import f1_score,fbeta_score"
      ],
      "metadata": {
        "id": "GsKlY9m6bml-"
      },
      "execution_count": null,
      "outputs": []
    },
    {
      "cell_type": "code",
      "source": [],
      "metadata": {
        "id": "kmfguTZOb8PG"
      },
      "execution_count": null,
      "outputs": []
    },
    {
      "cell_type": "code",
      "source": [
        "fbeta_score(y_test,test_labels_GB1,beta=2)"
      ],
      "metadata": {
        "colab": {
          "base_uri": "https://localhost:8080/"
        },
        "id": "XzLS7wD4aPMN",
        "outputId": "cdd90585-8240-42bb-e3f6-8a9bca3c525e"
      },
      "execution_count": null,
      "outputs": [
        {
          "output_type": "execute_result",
          "data": {
            "text/plain": [
              "0.4980414101846671"
            ]
          },
          "metadata": {},
          "execution_count": 322
        }
      ]
    },
    {
      "cell_type": "markdown",
      "source": [
        "#DECREASE FALSE NEGATIVE"
      ],
      "metadata": {
        "id": "fUTARhhQVjji"
      }
    },
    {
      "cell_type": "code",
      "source": [
        "import numpy as np\n",
        " "
      ],
      "metadata": {
        "id": "yV70mu0bVx7W"
      },
      "execution_count": null,
      "outputs": []
    },
    {
      "cell_type": "markdown",
      "source": [],
      "metadata": {
        "id": "w2DL7f8fXv6o"
      }
    },
    {
      "cell_type": "markdown",
      "source": [
        "lets define a function for checking false negative"
      ],
      "metadata": {
        "id": "M2nGml4qXwGZ"
      }
    },
    {
      "cell_type": "code",
      "source": [
        "def predict_threshold (model,X_test,thresholds):\n",
        "    import numpy as np\n",
        "    return np.where(model.predict_proba(X_test)[:,1]>thresholds,1,0) # Threshold is 0.3"
      ],
      "metadata": {
        "id": "nQdhJ8FXXJII"
      },
      "execution_count": null,
      "outputs": []
    },
    {
      "cell_type": "code",
      "source": [
        "import numpy as np\n",
        "from sklearn.metrics import confusion_matrix\n",
        "for thr in np.arange(0,1.0,0.1):\n",
        "    y_predict = predict_threshold(gridSearchGB,X_test,thr)\n",
        "    print(\"Threshold :\",thr)\n",
        "    print(confusion_matrix(y_test,y_predict))\n",
        "    print(fbeta_score(y_test,y_predict,beta=2))\n",
        "    print(recall_score(y_test,y_predict))\n"
      ],
      "metadata": {
        "colab": {
          "base_uri": "https://localhost:8080/"
        },
        "id": "p6BASzR2XJKg",
        "outputId": "63387118-bbcc-40ab-aa26-5b1c79f5230c"
      },
      "execution_count": null,
      "outputs": [
        {
          "output_type": "stream",
          "name": "stdout",
          "text": [
            "Threshold : 0.0\n",
            "[[   0 1033]\n",
            " [   0  374]]\n",
            "0.644161212538753\n",
            "1.0\n",
            "Threshold : 0.1\n",
            "[[490 543]\n",
            " [ 22 352]]\n",
            "0.7360936846507737\n",
            "0.9411764705882353\n",
            "Threshold : 0.2\n",
            "[[648 385]\n",
            " [ 59 315]]\n",
            "0.7172131147540982\n",
            "0.8422459893048129\n",
            "Threshold : 0.30000000000000004\n",
            "[[750 283]\n",
            " [ 84 290]]\n",
            "0.7008216529724505\n",
            "0.7754010695187166\n",
            "Threshold : 0.4\n",
            "[[819 214]\n",
            " [122 252]]\n",
            "0.6422018348623852\n",
            "0.6737967914438503\n",
            "Threshold : 0.5\n",
            "[[920 113]\n",
            " [196 178]]\n",
            "0.4980414101846671\n",
            "0.47593582887700536\n",
            "Threshold : 0.6000000000000001\n",
            "[[990  43]\n",
            " [289  85]]\n",
            "0.2616995073891626\n",
            "0.22727272727272727\n",
            "Threshold : 0.7000000000000001\n",
            "[[1033    0]\n",
            " [ 374    0]]\n",
            "0.0\n",
            "0.0\n",
            "Threshold : 0.8\n",
            "[[1033    0]\n",
            " [ 374    0]]\n",
            "0.0\n",
            "0.0\n",
            "Threshold : 0.9\n",
            "[[1033    0]\n",
            " [ 374    0]]\n",
            "0.0\n",
            "0.0\n"
          ]
        }
      ]
    },
    {
      "cell_type": "code",
      "source": [
        "y_predict_th3 = np.where(bestGBModFitted.predict_proba(X_test)[:,1]>0.1,1,0) # Threshold is 0.1\n"
      ],
      "metadata": {
        "id": "g9EPJVyWggr-"
      },
      "execution_count": null,
      "outputs": []
    },
    {
      "cell_type": "code",
      "source": [
        "from sklearn.metrics import recall_score"
      ],
      "metadata": {
        "id": "xgqDzIWZyx9w"
      },
      "execution_count": null,
      "outputs": []
    },
    {
      "cell_type": "code",
      "source": [
        "recall_score(y_test,y_predict_th3)"
      ],
      "metadata": {
        "colab": {
          "base_uri": "https://localhost:8080/"
        },
        "id": "7ZMsFzu-y7P7",
        "outputId": "84efff62-baad-431b-f8a4-ade9ace42ed3"
      },
      "execution_count": null,
      "outputs": [
        {
          "output_type": "execute_result",
          "data": {
            "text/plain": [
              "0.9411764705882353"
            ]
          },
          "metadata": {},
          "execution_count": 328
        }
      ]
    },
    {
      "cell_type": "code",
      "source": [],
      "metadata": {
        "id": "KthbY2DHZhDh"
      },
      "execution_count": null,
      "outputs": []
    },
    {
      "cell_type": "code",
      "source": [
        "tpr,fpr,thresholds = roc_curve(y_test,test_labels_GB)"
      ],
      "metadata": {
        "id": "lMWoMTBCXJNd"
      },
      "execution_count": null,
      "outputs": []
    },
    {
      "cell_type": "code",
      "source": [
        "thresholds\n"
      ],
      "metadata": {
        "colab": {
          "base_uri": "https://localhost:8080/"
        },
        "id": "s2PSacENZiOb",
        "outputId": "9da8288a-ff06-4359-e71f-01378155d78a"
      },
      "execution_count": null,
      "outputs": [
        {
          "output_type": "execute_result",
          "data": {
            "text/plain": [
              "array([1.67619892, 0.67619892, 0.66603277, 0.65539169, 0.64487639,\n",
              "       0.64455534, 0.62797249, 0.62794539, 0.62582124, 0.61584679,\n",
              "       0.61358921, 0.60886708, 0.60587254, 0.59751745, 0.59444261,\n",
              "       0.59119107, 0.58525248, 0.58278374, 0.57997225, 0.57963078,\n",
              "       0.57493888, 0.57250277, 0.56545677, 0.56360328, 0.56325852,\n",
              "       0.56207689, 0.5598117 , 0.54934474, 0.54774404, 0.54552822,\n",
              "       0.5431685 , 0.5401295 , 0.53893651, 0.5327438 , 0.53100881,\n",
              "       0.53030833, 0.53026259, 0.52862668, 0.52612562, 0.52228558,\n",
              "       0.52225663, 0.51581447, 0.51506499, 0.51071174, 0.50702392,\n",
              "       0.5068627 , 0.50449421, 0.49749906, 0.49546653, 0.49511617,\n",
              "       0.49468282, 0.49440224, 0.4902024 , 0.48863787, 0.48701158,\n",
              "       0.48544666, 0.47865615, 0.47785581, 0.4754704 , 0.47245205,\n",
              "       0.47176276, 0.46910343, 0.46446272, 0.46436792, 0.46268194,\n",
              "       0.4626531 , 0.46263513, 0.46193601, 0.457767  , 0.4569551 ,\n",
              "       0.4551385 , 0.45391918, 0.44767645, 0.4460609 , 0.44532071,\n",
              "       0.44452108, 0.44434651, 0.43740304, 0.43727287, 0.43578517,\n",
              "       0.43264709, 0.42790575, 0.42235125, 0.42082452, 0.41771441,\n",
              "       0.41150046, 0.41033807, 0.41018859, 0.40819388, 0.40597393,\n",
              "       0.40462031, 0.40305325, 0.40302534, 0.40154694, 0.39904995,\n",
              "       0.39683227, 0.39502904, 0.39469414, 0.39195375, 0.38844267,\n",
              "       0.38590989, 0.37468467, 0.37258195, 0.37146011, 0.37111954,\n",
              "       0.3699995 , 0.36814329, 0.36702699, 0.36405077, 0.36268183,\n",
              "       0.36109946, 0.35303967, 0.35163662, 0.35161017, 0.34471011,\n",
              "       0.34210615, 0.34208883, 0.33983206, 0.33921185, 0.33783506,\n",
              "       0.3321316 , 0.3310833 , 0.33106729, 0.3310416 , 0.32439009,\n",
              "       0.32432077, 0.32294951, 0.32016366, 0.31106045, 0.30701246,\n",
              "       0.30369388, 0.30327334, 0.30058187, 0.29693212, 0.29589042,\n",
              "       0.29400191, 0.29297385, 0.29198016, 0.29195618, 0.28669192,\n",
              "       0.2821689 , 0.28090248, 0.2793265 , 0.27832953, 0.278266  ,\n",
              "       0.27438385, 0.26988115, 0.26744934, 0.2673723 , 0.26616202,\n",
              "       0.26474194, 0.26367525, 0.25842889, 0.25804666, 0.25449527,\n",
              "       0.25447326, 0.25424748, 0.25330856, 0.25193352, 0.24493036,\n",
              "       0.24471166, 0.23407576, 0.23310547, 0.23168919, 0.23010141,\n",
              "       0.22980068, 0.22754769, 0.22670475, 0.22573018, 0.22543052,\n",
              "       0.21991483, 0.21734338, 0.21722207, 0.21517839, 0.21397053,\n",
              "       0.21395102, 0.207535  , 0.20751593, 0.20604938, 0.20296535,\n",
              "       0.20012747, 0.19809113, 0.19790086, 0.19533829, 0.19458461,\n",
              "       0.19313523, 0.19308594, 0.19236378, 0.19231464, 0.19161885,\n",
              "       0.19070908, 0.18868271, 0.18374383, 0.18300138, 0.18191501,\n",
              "       0.18145611, 0.17513559, 0.17392717, 0.17340889, 0.17251279,\n",
              "       0.17217545, 0.17069747, 0.16812911, 0.16627018, 0.16385435,\n",
              "       0.16317621, 0.16129243, 0.16018616, 0.15957194, 0.1579715 ,\n",
              "       0.1569951 , 0.15582551, 0.1551848 , 0.15398281, 0.15319654,\n",
              "       0.15195586, 0.14916628, 0.14549922, 0.14543347, 0.14527391,\n",
              "       0.14480399, 0.14421035, 0.14314863, 0.13800262, 0.13741389,\n",
              "       0.13383607, 0.13229499, 0.13167508, 0.12881092, 0.12830839,\n",
              "       0.12668996, 0.11945119, 0.1165244 , 0.11550251, 0.11544098,\n",
              "       0.1145311 , 0.11407594, 0.11271394, 0.1079566 , 0.10632627,\n",
              "       0.10615736, 0.10106502, 0.09934881, 0.0960111 , 0.09575302,\n",
              "       0.09542202, 0.09423244, 0.09352441, 0.0931181 , 0.09265071,\n",
              "       0.0915467 , 0.09083705, 0.08940369, 0.08880343, 0.08793797,\n",
              "       0.08604975, 0.07753532, 0.07730086, 0.07697533, 0.07696709,\n",
              "       0.07624322, 0.07403897, 0.07315976, 0.07274456, 0.07233405,\n",
              "       0.06831936, 0.06830583, 0.06804892, 0.06767672, 0.06415268,\n",
              "       0.06414572, 0.06390338, 0.06341479, 0.06314373, 0.06070692,\n",
              "       0.06070031, 0.06058043, 0.06035069, 0.06014141, 0.05997577,\n",
              "       0.05962408, 0.05928934, 0.05902881, 0.05787659, 0.05737448,\n",
              "       0.05699831, 0.05674075, 0.05620919, 0.05598381, 0.05573056,\n",
              "       0.05542173, 0.05282491, 0.05252622, 0.05252044, 0.05230848,\n",
              "       0.05188861, 0.05166449, 0.04994933, 0.04964135, 0.04935209,\n",
              "       0.04934665, 0.04909248, 0.04795859, 0.04730618, 0.04648186,\n",
              "       0.04594233, 0.04531259, 0.04462726, 0.04304899, 0.04270891,\n",
              "       0.04254192, 0.04063592, 0.04060088, 0.04045352, 0.04039255,\n",
              "       0.04005816, 0.03815139, 0.03790881, 0.0377616 , 0.03704705,\n",
              "       0.03638322, 0.03581871, 0.0357421 , 0.03560299, 0.03532261,\n",
              "       0.03310366, 0.03309995, 0.03295391, 0.03290373, 0.03278631,\n",
              "       0.03106474, 0.03106125, 0.03088161, 0.03075474, 0.0306324 ,\n",
              "       0.02974441, 0.02910439, 0.02897545, 0.02840847, 0.02778817,\n",
              "       0.02692534, 0.02574018, 0.02536985, 0.02447876, 0.02414741,\n",
              "       0.02376806, 0.02332318, 0.02308814, 0.02277949, 0.02271863,\n",
              "       0.02224725, 0.02197109, 0.02192637, 0.02174936, 0.01987933,\n",
              "       0.01960899, 0.01929952, 0.01918131, 0.01894254, 0.01846814,\n",
              "       0.01844366, 0.01817635, 0.01765349, 0.01670006, 0.01669816,\n",
              "       0.01536531, 0.01498073, 0.01474321, 0.01465249, 0.0140865 ,\n",
              "       0.01359108, 0.01274946, 0.012748  , 0.01193337, 0.01187688,\n",
              "       0.00966779, 0.00909995, 0.00736829])"
            ]
          },
          "metadata": {},
          "execution_count": 330
        }
      ]
    },
    {
      "cell_type": "code",
      "source": [
        "import matplotlib.pyplot as plt\n",
        "from sklearn.metrics import roc_curve,roc_auc_score\n",
        "%matplotlib inline\n",
        "fpr, tpr, thresholds = roc_curve(y_test, gridSearchGB.predict_proba(X_test)[:,1],drop_intermediate=False)\n",
        "plt.xlim([0.0, 1.0])\n",
        "plt.ylim([0.0, 1.0])\n",
        "plt.title('ROC churn classifier')\n",
        "plt.xlabel('False Positive Rate (1 - Specificity)')\n",
        "plt.ylabel('True Positive Rate (Sensitivity)')\n",
        "plt.plot(fpr, tpr,color='red',lw=5)\n",
        "plt.show()"
      ],
      "metadata": {
        "colab": {
          "base_uri": "https://localhost:8080/",
          "height": 295
        },
        "id": "lk263AZZZxg7",
        "outputId": "5602ecb4-e381-47e5-ee13-0d4a244b4d8e"
      },
      "execution_count": null,
      "outputs": [
        {
          "output_type": "display_data",
          "data": {
            "text/plain": [
              "<Figure size 432x288 with 1 Axes>"
            ],
            "image/png": "[encoded data removed]"
          },
          "metadata": {
            "needs_background": "light"
          }
        }
      ]
    }
  ],
  "metadata": {
    "colab": {
      "provenance": [],
      "collapsed_sections": [
        "BD46P8MYgXXY",
        "8qTnYTrugXXi",
        "QwjyQ9V9gXYO"
      ],
      "include_colab_link": true
    },
    "kernelspec": {
      "display_name": "Python 3 (ipykernel)",
      "language": "python",
      "name": "python3"
    },
    "language_info": {
      "codemirror_mode": {
        "name": "ipython",
        "version": 3
      },
      "file_extension": ".py",
      "mimetype": "text/x-python",
      "name": "python",
      "nbconvert_exporter": "python",
      "pygments_lexer": "ipython3",
      "version": "3.9.7"
    }
  },
  "nbformat": 4,
  "nbformat_minor": 0
}